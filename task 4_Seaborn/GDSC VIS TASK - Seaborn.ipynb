{
 "cells": [
  {
   "cell_type": "markdown",
   "id": "01a66cf7",
   "metadata": {},
   "source": [
    "## hady hisham zaher "
   ]
  },
  {
   "cell_type": "code",
   "execution_count": 1,
   "id": "87625abd",
   "metadata": {},
   "outputs": [],
   "source": [
    "# conventional way to import Libraries\n",
    "import numpy as np\n",
    "import pandas as pd\n",
    "import matplotlib.pyplot as plt\n",
    "import seaborn as sns\n",
    "\n",
    "pd.set_option('display.max_columns',None)"
   ]
  },
  {
   "cell_type": "code",
   "execution_count": 2,
   "id": "7857067e",
   "metadata": {},
   "outputs": [],
   "source": [
    "from datetime import datetime"
   ]
  },
  {
   "cell_type": "markdown",
   "id": "925cfddc",
   "metadata": {},
   "source": [
    "## Read dataset"
   ]
  },
  {
   "cell_type": "code",
   "execution_count": 7,
   "id": "242f9d35",
   "metadata": {},
   "outputs": [],
   "source": [
    "data = pd.read_csv(\"Task-2.csv\")"
   ]
  },
  {
   "cell_type": "markdown",
   "id": "30dd1d1a",
   "metadata": {},
   "source": [
    "## examine the first 5 rows"
   ]
  },
  {
   "cell_type": "code",
   "execution_count": 10,
   "id": "778e5b25",
   "metadata": {},
   "outputs": [
    {
     "data": {
      "text/html": [
       "<div>\n",
       "<style scoped>\n",
       "    .dataframe tbody tr th:only-of-type {\n",
       "        vertical-align: middle;\n",
       "    }\n",
       "\n",
       "    .dataframe tbody tr th {\n",
       "        vertical-align: top;\n",
       "    }\n",
       "\n",
       "    .dataframe thead th {\n",
       "        text-align: right;\n",
       "    }\n",
       "</style>\n",
       "<table border=\"1\" class=\"dataframe\">\n",
       "  <thead>\n",
       "    <tr style=\"text-align: right;\">\n",
       "      <th></th>\n",
       "      <th>Retailer</th>\n",
       "      <th>Retailer ID</th>\n",
       "      <th>Invoice Date</th>\n",
       "      <th>Region</th>\n",
       "      <th>State</th>\n",
       "      <th>City</th>\n",
       "      <th>Product</th>\n",
       "      <th>Price per Unit</th>\n",
       "      <th>Units Sold</th>\n",
       "      <th>Total Sales</th>\n",
       "      <th>Operating Profit</th>\n",
       "      <th>Sales Method</th>\n",
       "    </tr>\n",
       "  </thead>\n",
       "  <tbody>\n",
       "    <tr>\n",
       "      <th>0</th>\n",
       "      <td>Foot Locker</td>\n",
       "      <td>1185732</td>\n",
       "      <td>1/1/2020</td>\n",
       "      <td>Northeast</td>\n",
       "      <td>New York</td>\n",
       "      <td>New York</td>\n",
       "      <td>Men's Street Footwear</td>\n",
       "      <td>$50.00</td>\n",
       "      <td>1,200</td>\n",
       "      <td>60,000</td>\n",
       "      <td>$30,000</td>\n",
       "      <td>In-store</td>\n",
       "    </tr>\n",
       "    <tr>\n",
       "      <th>1</th>\n",
       "      <td>Foot Locker</td>\n",
       "      <td>1185732</td>\n",
       "      <td>1/2/2020</td>\n",
       "      <td>Northeast</td>\n",
       "      <td>New York</td>\n",
       "      <td>New York</td>\n",
       "      <td>Men's Athletic Footwear</td>\n",
       "      <td>$50.00</td>\n",
       "      <td>1,000</td>\n",
       "      <td>50,000</td>\n",
       "      <td>$15,000</td>\n",
       "      <td>In-store</td>\n",
       "    </tr>\n",
       "    <tr>\n",
       "      <th>2</th>\n",
       "      <td>Foot Locker</td>\n",
       "      <td>1185732</td>\n",
       "      <td>1/3/2020</td>\n",
       "      <td>Northeast</td>\n",
       "      <td>New York</td>\n",
       "      <td>New York</td>\n",
       "      <td>Women's Street Footwear</td>\n",
       "      <td>$40.00</td>\n",
       "      <td>1,000</td>\n",
       "      <td>40,000</td>\n",
       "      <td>$14,000</td>\n",
       "      <td>In-store</td>\n",
       "    </tr>\n",
       "    <tr>\n",
       "      <th>3</th>\n",
       "      <td>Foot Locker</td>\n",
       "      <td>1185732</td>\n",
       "      <td>1/4/2020</td>\n",
       "      <td>Northeast</td>\n",
       "      <td>New York</td>\n",
       "      <td>New York</td>\n",
       "      <td>Women's Athletic Footwear</td>\n",
       "      <td>$45.00</td>\n",
       "      <td>850</td>\n",
       "      <td>38,250</td>\n",
       "      <td>$13,388</td>\n",
       "      <td>In-store</td>\n",
       "    </tr>\n",
       "    <tr>\n",
       "      <th>4</th>\n",
       "      <td>Foot Locker</td>\n",
       "      <td>1185732</td>\n",
       "      <td>1/5/2020</td>\n",
       "      <td>Northeast</td>\n",
       "      <td>New York</td>\n",
       "      <td>New York</td>\n",
       "      <td>Men's Apparel</td>\n",
       "      <td>$60.00</td>\n",
       "      <td>900</td>\n",
       "      <td>54,000</td>\n",
       "      <td>$16,200</td>\n",
       "      <td>In-store</td>\n",
       "    </tr>\n",
       "  </tbody>\n",
       "</table>\n",
       "</div>"
      ],
      "text/plain": [
       "      Retailer  Retailer ID Invoice Date     Region     State      City  \\\n",
       "0  Foot Locker      1185732     1/1/2020  Northeast  New York  New York   \n",
       "1  Foot Locker      1185732     1/2/2020  Northeast  New York  New York   \n",
       "2  Foot Locker      1185732     1/3/2020  Northeast  New York  New York   \n",
       "3  Foot Locker      1185732     1/4/2020  Northeast  New York  New York   \n",
       "4  Foot Locker      1185732     1/5/2020  Northeast  New York  New York   \n",
       "\n",
       "                     Product Price per Unit Units Sold Total Sales  \\\n",
       "0      Men's Street Footwear        $50.00       1,200      60,000   \n",
       "1    Men's Athletic Footwear        $50.00       1,000      50,000   \n",
       "2    Women's Street Footwear        $40.00       1,000      40,000   \n",
       "3  Women's Athletic Footwear        $45.00         850      38,250   \n",
       "4              Men's Apparel        $60.00         900      54,000   \n",
       "\n",
       "  Operating Profit Sales Method  \n",
       "0         $30,000      In-store  \n",
       "1         $15,000      In-store  \n",
       "2         $14,000      In-store  \n",
       "3         $13,388      In-store  \n",
       "4         $16,200      In-store  "
      ]
     },
     "execution_count": 10,
     "metadata": {},
     "output_type": "execute_result"
    }
   ],
   "source": [
    "data.head()"
   ]
  },
  {
   "cell_type": "markdown",
   "id": "21204225",
   "metadata": {},
   "source": [
    "## info about data "
   ]
  },
  {
   "cell_type": "code",
   "execution_count": 11,
   "id": "f31ed8f3",
   "metadata": {},
   "outputs": [
    {
     "data": {
      "text/plain": [
       "(9648, 12)"
      ]
     },
     "execution_count": 11,
     "metadata": {},
     "output_type": "execute_result"
    }
   ],
   "source": [
    "data.shape"
   ]
  },
  {
   "cell_type": "code",
   "execution_count": 12,
   "id": "b0708998",
   "metadata": {},
   "outputs": [
    {
     "name": "stdout",
     "output_type": "stream",
     "text": [
      "<class 'pandas.core.frame.DataFrame'>\n",
      "RangeIndex: 9648 entries, 0 to 9647\n",
      "Data columns (total 12 columns):\n",
      " #   Column            Non-Null Count  Dtype \n",
      "---  ------            --------------  ----- \n",
      " 0   Retailer          9648 non-null   object\n",
      " 1   Retailer ID       9648 non-null   int64 \n",
      " 2   Invoice Date      9648 non-null   object\n",
      " 3   Region            9641 non-null   object\n",
      " 4   State             9648 non-null   object\n",
      " 5   City              9648 non-null   object\n",
      " 6   Product           9648 non-null   object\n",
      " 7   Price per Unit    9646 non-null   object\n",
      " 8   Units Sold        9648 non-null   object\n",
      " 9   Total Sales       9648 non-null   object\n",
      " 10  Operating Profit  9648 non-null   object\n",
      " 11  Sales Method      9648 non-null   object\n",
      "dtypes: int64(1), object(11)\n",
      "memory usage: 904.6+ KB\n"
     ]
    }
   ],
   "source": [
    "data.info()"
   ]
  },
  {
   "cell_type": "markdown",
   "id": "ee1efe63",
   "metadata": {},
   "source": [
    "## use your power and techniques to clean and process data "
   ]
  },
  {
   "cell_type": "markdown",
   "id": "ca815cfb",
   "metadata": {},
   "source": [
    "- replace non relevant characters \n",
    "- handle nan values \n",
    "- handle missing values  \n",
    "- handle outliers \n",
    "- handle date and time \n",
    "- drop non relevant columns\n",
    "- try to extract relational features."
   ]
  },
  {
   "cell_type": "markdown",
   "id": "0902a45f",
   "metadata": {},
   "source": [
    "## nan values"
   ]
  },
  {
   "cell_type": "code",
   "execution_count": 17,
   "id": "86ed320b",
   "metadata": {},
   "outputs": [],
   "source": [
    "data = data.dropna()"
   ]
  },
  {
   "cell_type": "code",
   "execution_count": 18,
   "id": "efe382f6",
   "metadata": {},
   "outputs": [
    {
     "data": {
      "text/plain": [
       "(9639, 12)"
      ]
     },
     "execution_count": 18,
     "metadata": {},
     "output_type": "execute_result"
    }
   ],
   "source": [
    "data.shape"
   ]
  },
  {
   "cell_type": "markdown",
   "id": "27cd88ea",
   "metadata": {},
   "source": [
    "## non relevant columns"
   ]
  },
  {
   "cell_type": "code",
   "execution_count": 19,
   "id": "de1ebed8",
   "metadata": {},
   "outputs": [],
   "source": [
    "data.drop('Retailer ID', inplace=True, axis=1)"
   ]
  },
  {
   "cell_type": "markdown",
   "id": "5cb50d71",
   "metadata": {},
   "source": [
    "## date handling"
   ]
  },
  {
   "cell_type": "code",
   "execution_count": 20,
   "id": "86dcb32a",
   "metadata": {},
   "outputs": [],
   "source": [
    "data['Invoice Date'] = pd.to_datetime(data['Invoice Date'])"
   ]
  },
  {
   "cell_type": "markdown",
   "id": "6ffdc94b",
   "metadata": {},
   "source": [
    "## non relevant characters"
   ]
  },
  {
   "cell_type": "code",
   "execution_count": 21,
   "id": "a6d1bc22",
   "metadata": {},
   "outputs": [],
   "source": [
    "data['Price per Unit'] = data['Price per Unit'].str.replace(\"$\", \"\", regex=False)\n",
    "data['Price per Unit'] = data['Price per Unit'].str.replace(\".\", \"\", regex=False).astype('int')"
   ]
  },
  {
   "cell_type": "code",
   "execution_count": 22,
   "id": "189cd97f",
   "metadata": {},
   "outputs": [],
   "source": [
    "data['Price per Unit'] = data['Price per Unit'].apply(lambda x: x / 100)"
   ]
  },
  {
   "cell_type": "code",
   "execution_count": 23,
   "id": "42c50808",
   "metadata": {},
   "outputs": [],
   "source": [
    "data['Units Sold'] = data['Units Sold'].str.replace(\",\", \"\", regex=False).astype('int')"
   ]
  },
  {
   "cell_type": "code",
   "execution_count": 24,
   "id": "95cf8489",
   "metadata": {},
   "outputs": [],
   "source": [
    "data['Operating Profit'] = data['Operating Profit'].str.replace(\"$\", \"\", regex=False)\n",
    "data['Operating Profit'] = data['Operating Profit'].str.replace(\",\", \"\", regex=False).astype('int')"
   ]
  },
  {
   "cell_type": "code",
   "execution_count": 48,
   "id": "e54e06be",
   "metadata": {},
   "outputs": [],
   "source": [
    "data['Total Sales'] = data['Total Sales'].str.replace(',', '')\n",
    "data['Total Sales'] = data['Total Sales'].astype('int')"
   ]
  },
  {
   "cell_type": "code",
   "execution_count": 49,
   "id": "6a709cbd",
   "metadata": {},
   "outputs": [
    {
     "data": {
      "text/html": [
       "<div>\n",
       "<style scoped>\n",
       "    .dataframe tbody tr th:only-of-type {\n",
       "        vertical-align: middle;\n",
       "    }\n",
       "\n",
       "    .dataframe tbody tr th {\n",
       "        vertical-align: top;\n",
       "    }\n",
       "\n",
       "    .dataframe thead th {\n",
       "        text-align: right;\n",
       "    }\n",
       "</style>\n",
       "<table border=\"1\" class=\"dataframe\">\n",
       "  <thead>\n",
       "    <tr style=\"text-align: right;\">\n",
       "      <th></th>\n",
       "      <th>Retailer</th>\n",
       "      <th>Invoice Date</th>\n",
       "      <th>Region</th>\n",
       "      <th>State</th>\n",
       "      <th>City</th>\n",
       "      <th>Product</th>\n",
       "      <th>Price per Unit</th>\n",
       "      <th>Units Sold</th>\n",
       "      <th>Total Sales</th>\n",
       "      <th>Operating Profit</th>\n",
       "      <th>Sales Method</th>\n",
       "    </tr>\n",
       "  </thead>\n",
       "  <tbody>\n",
       "    <tr>\n",
       "      <th>0</th>\n",
       "      <td>Foot Locker</td>\n",
       "      <td>2020-01-01</td>\n",
       "      <td>Northeast</td>\n",
       "      <td>New York</td>\n",
       "      <td>New York</td>\n",
       "      <td>Men's Street Footwear</td>\n",
       "      <td>50.0</td>\n",
       "      <td>1200</td>\n",
       "      <td>60000</td>\n",
       "      <td>30000</td>\n",
       "      <td>In-store</td>\n",
       "    </tr>\n",
       "    <tr>\n",
       "      <th>1</th>\n",
       "      <td>Foot Locker</td>\n",
       "      <td>2020-01-02</td>\n",
       "      <td>Northeast</td>\n",
       "      <td>New York</td>\n",
       "      <td>New York</td>\n",
       "      <td>Men's Athletic Footwear</td>\n",
       "      <td>50.0</td>\n",
       "      <td>1000</td>\n",
       "      <td>50000</td>\n",
       "      <td>15000</td>\n",
       "      <td>In-store</td>\n",
       "    </tr>\n",
       "    <tr>\n",
       "      <th>2</th>\n",
       "      <td>Foot Locker</td>\n",
       "      <td>2020-01-03</td>\n",
       "      <td>Northeast</td>\n",
       "      <td>New York</td>\n",
       "      <td>New York</td>\n",
       "      <td>Women's Street Footwear</td>\n",
       "      <td>40.0</td>\n",
       "      <td>1000</td>\n",
       "      <td>40000</td>\n",
       "      <td>14000</td>\n",
       "      <td>In-store</td>\n",
       "    </tr>\n",
       "    <tr>\n",
       "      <th>3</th>\n",
       "      <td>Foot Locker</td>\n",
       "      <td>2020-01-04</td>\n",
       "      <td>Northeast</td>\n",
       "      <td>New York</td>\n",
       "      <td>New York</td>\n",
       "      <td>Women's Athletic Footwear</td>\n",
       "      <td>45.0</td>\n",
       "      <td>850</td>\n",
       "      <td>38250</td>\n",
       "      <td>13388</td>\n",
       "      <td>In-store</td>\n",
       "    </tr>\n",
       "    <tr>\n",
       "      <th>4</th>\n",
       "      <td>Foot Locker</td>\n",
       "      <td>2020-01-05</td>\n",
       "      <td>Northeast</td>\n",
       "      <td>New York</td>\n",
       "      <td>New York</td>\n",
       "      <td>Men's Apparel</td>\n",
       "      <td>60.0</td>\n",
       "      <td>900</td>\n",
       "      <td>54000</td>\n",
       "      <td>16200</td>\n",
       "      <td>In-store</td>\n",
       "    </tr>\n",
       "  </tbody>\n",
       "</table>\n",
       "</div>"
      ],
      "text/plain": [
       "      Retailer Invoice Date     Region     State      City  \\\n",
       "0  Foot Locker   2020-01-01  Northeast  New York  New York   \n",
       "1  Foot Locker   2020-01-02  Northeast  New York  New York   \n",
       "2  Foot Locker   2020-01-03  Northeast  New York  New York   \n",
       "3  Foot Locker   2020-01-04  Northeast  New York  New York   \n",
       "4  Foot Locker   2020-01-05  Northeast  New York  New York   \n",
       "\n",
       "                     Product  Price per Unit  Units Sold  Total Sales  \\\n",
       "0      Men's Street Footwear            50.0        1200        60000   \n",
       "1    Men's Athletic Footwear            50.0        1000        50000   \n",
       "2    Women's Street Footwear            40.0        1000        40000   \n",
       "3  Women's Athletic Footwear            45.0         850        38250   \n",
       "4              Men's Apparel            60.0         900        54000   \n",
       "\n",
       "   Operating Profit Sales Method  \n",
       "0             30000     In-store  \n",
       "1             15000     In-store  \n",
       "2             14000     In-store  \n",
       "3             13388     In-store  \n",
       "4             16200     In-store  "
      ]
     },
     "execution_count": 49,
     "metadata": {},
     "output_type": "execute_result"
    }
   ],
   "source": [
    "data.head()"
   ]
  },
  {
   "cell_type": "markdown",
   "id": "9d6e291d",
   "metadata": {},
   "source": [
    "## outliners"
   ]
  },
  {
   "cell_type": "code",
   "execution_count": 27,
   "id": "0bec2dc0",
   "metadata": {},
   "outputs": [
    {
     "data": {
      "text/plain": [
       "<AxesSubplot:xlabel='Price per Unit'>"
      ]
     },
     "execution_count": 27,
     "metadata": {},
     "output_type": "execute_result"
    },
    {
     "data": {
      "image/png": "[encoded data removed]",
      "text/plain": [
       "<Figure size 432x288 with 1 Axes>"
      ]
     },
     "metadata": {
      "needs_background": "light"
     },
     "output_type": "display_data"
    }
   ],
   "source": [
    "sns.boxplot(x='Price per Unit',data=data)"
   ]
  },
  {
   "cell_type": "code",
   "execution_count": 29,
   "id": "341050c2",
   "metadata": {},
   "outputs": [
    {
     "data": {
      "text/plain": [
       "<AxesSubplot:xlabel='Price per Unit'>"
      ]
     },
     "execution_count": 29,
     "metadata": {},
     "output_type": "execute_result"
    },
    {
     "data": {
      "image/png": "[encoded data removed]",
      "text/plain": [
       "<Figure size 432x288 with 1 Axes>"
      ]
     },
     "metadata": {
      "needs_background": "light"
     },
     "output_type": "display_data"
    }
   ],
   "source": [
    "ppu = data[data['Price per Unit'] < 86]\n",
    "sns.boxplot(x='Price per Unit',data=ppu)\n",
    "# I got the 86 by trial and error "
   ]
  },
  {
   "cell_type": "code",
   "execution_count": 30,
   "id": "eb4bbdc0",
   "metadata": {},
   "outputs": [
    {
     "data": {
      "text/plain": [
       "<AxesSubplot:xlabel='Units Sold'>"
      ]
     },
     "execution_count": 30,
     "metadata": {},
     "output_type": "execute_result"
    },
    {
     "data": {
      "image/png": "[encoded data removed]",
      "text/plain": [
       "<Figure size 432x288 with 1 Axes>"
      ]
     },
     "metadata": {
      "needs_background": "light"
     },
     "output_type": "display_data"
    }
   ],
   "source": [
    "sns.boxplot(x='Units Sold',data=data)"
   ]
  },
  {
   "cell_type": "code",
   "execution_count": 46,
   "id": "df982d3c",
   "metadata": {},
   "outputs": [
    {
     "data": {
      "text/plain": [
       "<AxesSubplot:xlabel='Units Sold'>"
      ]
     },
     "execution_count": 46,
     "metadata": {},
     "output_type": "execute_result"
    },
    {
     "data": {
      "image/png": "[encoded data removed]",
      "text/plain": [
       "<Figure size 432x288 with 1 Axes>"
      ]
     },
     "metadata": {
      "needs_background": "light"
     },
     "output_type": "display_data"
    }
   ],
   "source": [
    "us = data[data['Units Sold'] < 425]\n",
    "sns.boxplot(x='Units Sold',data=us)"
   ]
  },
  {
   "cell_type": "code",
   "execution_count": 50,
   "id": "a9915377",
   "metadata": {},
   "outputs": [
    {
     "data": {
      "text/plain": [
       "<AxesSubplot:xlabel='Total Sales'>"
      ]
     },
     "execution_count": 50,
     "metadata": {},
     "output_type": "execute_result"
    },
    {
     "data": {
      "image/png": "[encoded data removed]",
      "text/plain": [
       "<Figure size 432x288 with 1 Axes>"
      ]
     },
     "metadata": {
      "needs_background": "light"
     },
     "output_type": "display_data"
    }
   ],
   "source": [
    "sns.boxplot(x='Total Sales',data=data)"
   ]
  },
  {
   "cell_type": "code",
   "execution_count": 68,
   "id": "13e1ba25",
   "metadata": {},
   "outputs": [
    {
     "data": {
      "text/plain": [
       "<AxesSubplot:xlabel='Total Sales'>"
      ]
     },
     "execution_count": 68,
     "metadata": {},
     "output_type": "execute_result"
    },
    {
     "data": {
      "image/png": "[encoded data removed]",
      "text/plain": [
       "<Figure size 432x288 with 1 Axes>"
      ]
     },
     "metadata": {
      "needs_background": "light"
     },
     "output_type": "display_data"
    }
   ],
   "source": [
    "ts = data[data['Total Sales'] < 1485]\n",
    "sns.boxplot(x='Total Sales',data=ts)"
   ]
  },
  {
   "cell_type": "code",
   "execution_count": 69,
   "id": "98913f78",
   "metadata": {},
   "outputs": [
    {
     "data": {
      "text/plain": [
       "<AxesSubplot:xlabel='Operating Profit'>"
      ]
     },
     "execution_count": 69,
     "metadata": {},
     "output_type": "execute_result"
    },
    {
     "data": {
      "image/png": "[encoded data removed]",
      "text/plain": [
       "<Figure size 432x288 with 1 Axes>"
      ]
     },
     "metadata": {
      "needs_background": "light"
     },
     "output_type": "display_data"
    }
   ],
   "source": [
    "sns.boxplot(x='Operating Profit',data=data)"
   ]
  },
  {
   "cell_type": "code",
   "execution_count": 83,
   "id": "c322a4c9",
   "metadata": {},
   "outputs": [
    {
     "data": {
      "text/plain": [
       "<AxesSubplot:xlabel='Operating Profit'>"
      ]
     },
     "execution_count": 83,
     "metadata": {},
     "output_type": "execute_result"
    },
    {
     "data": {
      "image/png": "[encoded data removed]",
      "text/plain": [
       "<Figure size 432x288 with 1 Axes>"
      ]
     },
     "metadata": {
      "needs_background": "light"
     },
     "output_type": "display_data"
    }
   ],
   "source": [
    "op = data[data['Operating Profit'] < 666]\n",
    "sns.boxplot(x='Operating Profit',data=op)"
   ]
  },
  {
   "cell_type": "markdown",
   "id": "4acd8fe9",
   "metadata": {},
   "source": [
    "### I need form you to give me a dataframe with only values like New York from State column "
   ]
  },
  {
   "cell_type": "code",
   "execution_count": 84,
   "id": "aaa3ae27",
   "metadata": {},
   "outputs": [],
   "source": [
    "data_new = data[data.State.isin(['New York'])]"
   ]
  },
  {
   "cell_type": "code",
   "execution_count": 85,
   "id": "e303e9b9",
   "metadata": {},
   "outputs": [
    {
     "data": {
      "text/plain": [
       "(359, 11)"
      ]
     },
     "execution_count": 85,
     "metadata": {},
     "output_type": "execute_result"
    }
   ],
   "source": [
    "data_new.shape"
   ]
  },
  {
   "cell_type": "markdown",
   "id": "57dabbb7",
   "metadata": {},
   "source": [
    "## is there any relation between year and Total Sales ?"
   ]
  },
  {
   "cell_type": "code",
   "execution_count": 86,
   "id": "e9c55411",
   "metadata": {},
   "outputs": [],
   "source": [
    "data['Year'] = data['Invoice Date'].dt.year "
   ]
  },
  {
   "cell_type": "code",
   "execution_count": 87,
   "id": "5a2994f8",
   "metadata": {},
   "outputs": [
    {
     "data": {
      "text/plain": [
       "<AxesSubplot:xlabel='Year', ylabel='Total Sales'>"
      ]
     },
     "execution_count": 87,
     "metadata": {},
     "output_type": "execute_result"
    },
    {
     "data": {
      "image/png": "[encoded data removed]",
      "text/plain": [
       "<Figure size 432x288 with 1 Axes>"
      ]
     },
     "metadata": {
      "needs_background": "light"
     },
     "output_type": "display_data"
    }
   ],
   "source": [
    "sns.lineplot(x='Year',\n",
    "            y='Total Sales',\n",
    "            data=data,\n",
    "             ci=None)"
   ]
  },
  {
   "cell_type": "markdown",
   "id": "b5bdfd06",
   "metadata": {},
   "source": [
    "## is there any relation between month and Total Sales ?"
   ]
  },
  {
   "cell_type": "code",
   "execution_count": 88,
   "id": "f9e1bba7",
   "metadata": {},
   "outputs": [],
   "source": [
    "data['Month'] = data['Invoice Date'].dt.month"
   ]
  },
  {
   "cell_type": "code",
   "execution_count": 89,
   "id": "0ef4525a",
   "metadata": {},
   "outputs": [
    {
     "data": {
      "text/plain": [
       "<AxesSubplot:xlabel='Month', ylabel='Total Sales'>"
      ]
     },
     "execution_count": 89,
     "metadata": {},
     "output_type": "execute_result"
    },
    {
     "data": {
      "image/png": "[encoded data removed]",
      "text/plain": [
       "<Figure size 432x288 with 1 Axes>"
      ]
     },
     "metadata": {
      "needs_background": "light"
     },
     "output_type": "display_data"
    }
   ],
   "source": [
    "sns.lineplot(x='Month',\n",
    "            y='Total Sales',\n",
    "            data=data,\n",
    "             ci=None)"
   ]
  },
  {
   "cell_type": "markdown",
   "id": "df83defc",
   "metadata": {},
   "source": [
    "## is there any core relation between your features ?"
   ]
  },
  {
   "cell_type": "code",
   "execution_count": 90,
   "id": "2b7c86e4",
   "metadata": {},
   "outputs": [
    {
     "data": {
      "text/plain": [
       "<AxesSubplot:>"
      ]
     },
     "execution_count": 90,
     "metadata": {},
     "output_type": "execute_result"
    },
    {
     "data": {
      "image/png": "[encoded data removed]",
      "text/plain": [
       "<Figure size 432x288 with 2 Axes>"
      ]
     },
     "metadata": {
      "needs_background": "light"
     },
     "output_type": "display_data"
    }
   ],
   "source": [
    "sns.heatmap(data.corr(),\n",
    "            annot = True,\n",
    "            fmt='.2f')"
   ]
  },
  {
   "cell_type": "markdown",
   "id": "2e81c695",
   "metadata": {},
   "source": [
    "## What is the highest product count in Retailer column ????"
   ]
  },
  {
   "cell_type": "code",
   "execution_count": 91,
   "id": "1efe277a",
   "metadata": {},
   "outputs": [
    {
     "data": {
      "text/plain": [
       "('Foot Locker', \"Men's Street Footwear\")"
      ]
     },
     "execution_count": 91,
     "metadata": {},
     "output_type": "execute_result"
    }
   ],
   "source": [
    "data.groupby('Retailer').Product.value_counts().idxmax()"
   ]
  },
  {
   "cell_type": "markdown",
   "id": "a608a58d",
   "metadata": {},
   "source": [
    "## What is the highest product with Total Sales ?"
   ]
  },
  {
   "cell_type": "code",
   "execution_count": 92,
   "id": "53374e26",
   "metadata": {},
   "outputs": [
    {
     "data": {
      "text/plain": [
       "\"Men's Street Footwear\""
      ]
     },
     "execution_count": 92,
     "metadata": {},
     "output_type": "execute_result"
    }
   ],
   "source": [
    "data.groupby('Product')['Total Sales'].sum().idxmax()"
   ]
  },
  {
   "cell_type": "markdown",
   "id": "e563bf77",
   "metadata": {},
   "source": [
    "## If there any problem with Price per Unit column ?, if not please visualize the distribution of it."
   ]
  },
  {
   "cell_type": "code",
   "execution_count": 93,
   "id": "f49130b4",
   "metadata": {},
   "outputs": [
    {
     "data": {
      "text/plain": [
       "<AxesSubplot:xlabel='Price per Unit', ylabel='Count'>"
      ]
     },
     "execution_count": 93,
     "metadata": {},
     "output_type": "execute_result"
    },
    {
     "data": {
      "image/png": "[encoded data removed]",
      "text/plain": [
       "<Figure size 432x288 with 1 Axes>"
      ]
     },
     "metadata": {
      "needs_background": "light"
     },
     "output_type": "display_data"
    }
   ],
   "source": [
    "sns.histplot(x = 'Price per Unit',\n",
    "            data = data)"
   ]
  },
  {
   "cell_type": "markdown",
   "id": "1569020d",
   "metadata": {},
   "source": [
    "### Give me the Total Sales for Northeast only in one chart!"
   ]
  },
  {
   "cell_type": "code",
   "execution_count": 95,
   "id": "16a1480f",
   "metadata": {},
   "outputs": [],
   "source": [
    "data_northeast = data[data['Region'] == 'Northeast']"
   ]
  },
  {
   "cell_type": "code",
   "execution_count": 96,
   "id": "2654efdf",
   "metadata": {},
   "outputs": [
    {
     "data": {
      "text/plain": [
       "<AxesSubplot:ylabel='Total Sales'>"
      ]
     },
     "execution_count": 96,
     "metadata": {},
     "output_type": "execute_result"
    },
    {
     "data": {
      "image/png": "[encoded data removed]",
      "text/plain": [
       "<Figure size 432x288 with 1 Axes>"
      ]
     },
     "metadata": {
      "needs_background": "light"
     },
     "output_type": "display_data"
    }
   ],
   "source": [
    "sns.barplot(y = 'Total Sales',\n",
    "           data = data_northeast,\n",
    "            ci=None)"
   ]
  },
  {
   "cell_type": "markdown",
   "id": "4f2d32be",
   "metadata": {},
   "source": [
    "### What is the highest Sales Method with total sales?\n"
   ]
  },
  {
   "cell_type": "code",
   "execution_count": 97,
   "id": "8b69257d",
   "metadata": {},
   "outputs": [
    {
     "data": {
      "text/plain": [
       "Sales Method\n",
       "In-store    35664375\n",
       "Online      24767439\n",
       "Outlet      29317253\n",
       "Name: Total Sales, dtype: int32"
      ]
     },
     "execution_count": 97,
     "metadata": {},
     "output_type": "execute_result"
    }
   ],
   "source": [
    "data.groupby('Sales Method')['Total Sales'].sum()"
   ]
  },
  {
   "cell_type": "code",
   "execution_count": 98,
   "id": "55a5ed0a",
   "metadata": {},
   "outputs": [
    {
     "data": {
      "text/plain": [
       "'In-store'"
      ]
     },
     "execution_count": 98,
     "metadata": {},
     "output_type": "execute_result"
    }
   ],
   "source": [
    "data.groupby('Sales Method')['Total Sales'].sum().idxmax()"
   ]
  },
  {
   "cell_type": "markdown",
   "id": "c068a611",
   "metadata": {},
   "source": [
    "### What is the highest Sales Method in South region ?\n"
   ]
  },
  {
   "cell_type": "code",
   "execution_count": 99,
   "id": "c230a033",
   "metadata": {},
   "outputs": [],
   "source": [
    "data_south = data[data['Region'] == 'South']"
   ]
  },
  {
   "cell_type": "code",
   "execution_count": 100,
   "id": "7a1e62c4",
   "metadata": {},
   "outputs": [
    {
     "data": {
      "text/plain": [
       "'Outlet'"
      ]
     },
     "execution_count": 100,
     "metadata": {},
     "output_type": "execute_result"
    }
   ],
   "source": [
    "data_south['Sales Method'].value_counts().idxmax()"
   ]
  },
  {
   "cell_type": "markdown",
   "id": "87b6dd77",
   "metadata": {},
   "source": [
    "## Thank for your effort! i hope the best for you."
   ]
  }
 ],
 "metadata": {
  "kernelspec": {
   "display_name": "Python 3 (ipykernel)",
   "language": "python",
   "name": "python3"
  },
  "language_info": {
   "codemirror_mode": {
    "name": "ipython",
    "version": 3
   },
   "file_extension": ".py",
   "mimetype": "text/x-python",
   "name": "python",
   "nbconvert_exporter": "python",
   "pygments_lexer": "ipython3",
   "version": "3.9.12"
  }
 },
 "nbformat": 4,
 "nbformat_minor": 5
}
