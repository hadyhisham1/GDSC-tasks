{
 "cells": [
  {
   "cell_type": "code",
   "execution_count": 1,
   "id": "d5207b03",
   "metadata": {},
   "outputs": [
    {
     "data": {
      "application/javascript": [
       "IPython.notebook.set_autosave_interval(5000)"
      ]
     },
     "metadata": {},
     "output_type": "display_data"
    },
    {
     "name": "stdout",
     "output_type": "stream",
     "text": [
      "Autosaving every 5 seconds\n"
     ]
    }
   ],
   "source": [
    "%autosave 5"
   ]
  },
  {
   "cell_type": "markdown",
   "id": "bb92bfa4",
   "metadata": {},
   "source": [
    "# Numpy"
   ]
  },
  {
   "cell_type": "code",
   "execution_count": 1,
   "id": "32468810",
   "metadata": {},
   "outputs": [],
   "source": [
    "import numpy as np"
   ]
  },
  {
   "cell_type": "markdown",
   "id": "b8e17986",
   "metadata": {},
   "source": [
    "### 1-D array (vector)"
   ]
  },
  {
   "cell_type": "code",
   "execution_count": 2,
   "id": "8a4175d2",
   "metadata": {},
   "outputs": [],
   "source": [
    "numbers = [2,3,6,5,4,7,8]\n",
    "num_row = np.array(numbers)"
   ]
  },
  {
   "cell_type": "code",
   "execution_count": 3,
   "id": "412f1205",
   "metadata": {},
   "outputs": [
    {
     "name": "stdout",
     "output_type": "stream",
     "text": [
      "[2, 3, 6, 5, 4, 7, 8]\n",
      "[2 3 6 5 4 7 8]\n"
     ]
    }
   ],
   "source": [
    "print(numbers)\n",
    "print(num_row)"
   ]
  },
  {
   "cell_type": "code",
   "execution_count": 4,
   "id": "ee4177b4",
   "metadata": {},
   "outputs": [],
   "source": [
    "numbers = [[1],\n",
    "           [2],\n",
    "           [3],\n",
    "           [4],\n",
    "           [5],\n",
    "           [6]]\n",
    "num_col = np.array(numbers)"
   ]
  },
  {
   "cell_type": "code",
   "execution_count": 5,
   "id": "13495208",
   "metadata": {},
   "outputs": [
    {
     "name": "stdout",
     "output_type": "stream",
     "text": [
      "[[1], [2], [3], [4], [5], [6]]\n",
      "[[1]\n",
      " [2]\n",
      " [3]\n",
      " [4]\n",
      " [5]\n",
      " [6]]\n"
     ]
    }
   ],
   "source": [
    "print(numbers)\n",
    "print(num_col)"
   ]
  },
  {
   "cell_type": "markdown",
   "id": "cab32172",
   "metadata": {},
   "source": [
    "### 2-D array (matrix)"
   ]
  },
  {
   "cell_type": "code",
   "execution_count": 6,
   "id": "fac4748c",
   "metadata": {},
   "outputs": [],
   "source": [
    "numbers = [[1,2,3],\n",
    "           [4,5,6],\n",
    "           [7,8,9],\n",
    "           [10,11,12]]"
   ]
  },
  {
   "cell_type": "code",
   "execution_count": 7,
   "id": "9060726f",
   "metadata": {},
   "outputs": [],
   "source": [
    "num_mat = np.array(numbers)"
   ]
  },
  {
   "cell_type": "code",
   "execution_count": 8,
   "id": "9ab4a625",
   "metadata": {},
   "outputs": [
    {
     "name": "stdout",
     "output_type": "stream",
     "text": [
      "[[1, 2, 3], [4, 5, 6], [7, 8, 9], [10, 11, 12]]\n",
      "[[ 1  2  3]\n",
      " [ 4  5  6]\n",
      " [ 7  8  9]\n",
      " [10 11 12]]\n"
     ]
    }
   ],
   "source": [
    "print(numbers)\n",
    "print(num_mat)"
   ]
  },
  {
   "cell_type": "markdown",
   "id": "55a2b93d",
   "metadata": {},
   "source": [
    "### empty matrix"
   ]
  },
  {
   "cell_type": "code",
   "execution_count": 9,
   "id": "bc4128fb",
   "metadata": {},
   "outputs": [],
   "source": [
    "mt = np.empty((3,3))"
   ]
  },
  {
   "cell_type": "code",
   "execution_count": 10,
   "id": "8976a12f",
   "metadata": {},
   "outputs": [
    {
     "name": "stdout",
     "output_type": "stream",
     "text": [
      "[[6.23042070e-307 4.67296746e-307 1.69121096e-306]\n",
      " [4.22787460e-307 2.67019592e-306 1.42413555e-306]\n",
      " [1.78019082e-306 1.37959740e-306 2.29178686e-312]]\n",
      "(3, 3)\n"
     ]
    }
   ],
   "source": [
    "print(mt)\n",
    "print(mt.shape)"
   ]
  },
  {
   "cell_type": "markdown",
   "id": "f547e0a8",
   "metadata": {},
   "source": [
    "### selection"
   ]
  },
  {
   "cell_type": "code",
   "execution_count": 11,
   "id": "022b9231",
   "metadata": {},
   "outputs": [],
   "source": [
    "vector = np.array([1,2,3,4,5,6,7,8])"
   ]
  },
  {
   "cell_type": "code",
   "execution_count": 12,
   "id": "95efdadf",
   "metadata": {},
   "outputs": [],
   "source": [
    "matrix = np.array([[1,2,3],\n",
    "                   [4,5,6],\n",
    "                   [7,8,9]])"
   ]
  },
  {
   "cell_type": "code",
   "execution_count": 13,
   "id": "c9f750a0",
   "metadata": {},
   "outputs": [
    {
     "data": {
      "text/plain": [
       "2"
      ]
     },
     "execution_count": 13,
     "metadata": {},
     "output_type": "execute_result"
    }
   ],
   "source": [
    "vector[1] # select second element"
   ]
  },
  {
   "cell_type": "code",
   "execution_count": 14,
   "id": "a3a51fb7",
   "metadata": {},
   "outputs": [
    {
     "data": {
      "text/plain": [
       "5"
      ]
     },
     "execution_count": 14,
     "metadata": {},
     "output_type": "execute_result"
    }
   ],
   "source": [
    "matrix[1,1] # select second element in the second matrix\n",
    "#00   01   02\n",
    "#10   11   12\n",
    "#20   21   22"
   ]
  },
  {
   "cell_type": "markdown",
   "id": "334274f4",
   "metadata": {},
   "source": [
    "### multi-selection"
   ]
  },
  {
   "cell_type": "code",
   "execution_count": 15,
   "id": "9308fa77",
   "metadata": {},
   "outputs": [
    {
     "data": {
      "text/plain": [
       "array([1, 2, 3, 4, 5, 6, 7, 8])"
      ]
     },
     "execution_count": 15,
     "metadata": {},
     "output_type": "execute_result"
    }
   ],
   "source": [
    "vector[:] # all vector"
   ]
  },
  {
   "cell_type": "code",
   "execution_count": 16,
   "id": "f0ec1659",
   "metadata": {},
   "outputs": [
    {
     "data": {
      "text/plain": [
       "array([1, 2, 3, 4])"
      ]
     },
     "execution_count": 16,
     "metadata": {},
     "output_type": "execute_result"
    }
   ],
   "source": [
    "vector[:4] # select up to 3rd element  [:4] or [0:4]"
   ]
  },
  {
   "cell_type": "code",
   "execution_count": 17,
   "id": "aeeb10d4",
   "metadata": {},
   "outputs": [
    {
     "data": {
      "text/plain": [
       "array([4, 5, 6, 7, 8])"
      ]
     },
     "execution_count": 17,
     "metadata": {},
     "output_type": "execute_result"
    }
   ],
   "source": [
    "vector[3:] # everything after 3rd element including 3rd"
   ]
  },
  {
   "cell_type": "code",
   "execution_count": 18,
   "id": "d871a38c",
   "metadata": {},
   "outputs": [
    {
     "data": {
      "text/plain": [
       "8"
      ]
     },
     "execution_count": 18,
     "metadata": {},
     "output_type": "execute_result"
    }
   ],
   "source": [
    "vector[-1] # last element"
   ]
  },
  {
   "cell_type": "code",
   "execution_count": 19,
   "id": "9abc3a9a",
   "metadata": {},
   "outputs": [
    {
     "data": {
      "text/plain": [
       "array([[1, 2, 3],\n",
       "       [4, 5, 6],\n",
       "       [7, 8, 9]])"
      ]
     },
     "execution_count": 19,
     "metadata": {},
     "output_type": "execute_result"
    }
   ],
   "source": [
    "matrix[::] # all matrix"
   ]
  },
  {
   "cell_type": "code",
   "execution_count": 20,
   "id": "d8fb8b2b",
   "metadata": {},
   "outputs": [
    {
     "data": {
      "text/plain": [
       "array([[1, 2, 3],\n",
       "       [4, 5, 6]])"
      ]
     },
     "execution_count": 20,
     "metadata": {},
     "output_type": "execute_result"
    }
   ],
   "source": [
    "matrix[:2] # first two rows in matrix [:2] or [0:2] or [0:2:]"
   ]
  },
  {
   "cell_type": "markdown",
   "id": "a8516e5f",
   "metadata": {},
   "source": [
    "### describing matrices"
   ]
  },
  {
   "cell_type": "code",
   "execution_count": 21,
   "id": "b64a56b9",
   "metadata": {},
   "outputs": [
    {
     "data": {
      "text/plain": [
       "(3, 3)"
      ]
     },
     "execution_count": 21,
     "metadata": {},
     "output_type": "execute_result"
    }
   ],
   "source": [
    "matrix.shape # return dimensions"
   ]
  },
  {
   "cell_type": "code",
   "execution_count": 22,
   "id": "19ebdfd2",
   "metadata": {},
   "outputs": [
    {
     "data": {
      "text/plain": [
       "2"
      ]
     },
     "execution_count": 22,
     "metadata": {},
     "output_type": "execute_result"
    }
   ],
   "source": [
    "matrix.ndim # return number of dimensions"
   ]
  },
  {
   "cell_type": "code",
   "execution_count": 23,
   "id": "d44de507",
   "metadata": {},
   "outputs": [
    {
     "data": {
      "text/plain": [
       "9"
      ]
     },
     "execution_count": 23,
     "metadata": {},
     "output_type": "execute_result"
    }
   ],
   "source": [
    "matrix.size # return rows * columns"
   ]
  },
  {
   "cell_type": "markdown",
   "id": "7dd46542",
   "metadata": {},
   "source": [
    "### max and min"
   ]
  },
  {
   "cell_type": "code",
   "execution_count": 24,
   "id": "0a984ff1",
   "metadata": {},
   "outputs": [
    {
     "data": {
      "text/plain": [
       "9"
      ]
     },
     "execution_count": 24,
     "metadata": {},
     "output_type": "execute_result"
    }
   ],
   "source": [
    "np.max(matrix)"
   ]
  },
  {
   "cell_type": "code",
   "execution_count": 25,
   "id": "6f4c50cc",
   "metadata": {},
   "outputs": [
    {
     "data": {
      "text/plain": [
       "1"
      ]
     },
     "execution_count": 25,
     "metadata": {},
     "output_type": "execute_result"
    }
   ],
   "source": [
    "np.min(matrix)"
   ]
  },
  {
   "cell_type": "code",
   "execution_count": 26,
   "id": "9b2bd47f",
   "metadata": {},
   "outputs": [
    {
     "data": {
      "text/plain": [
       "array([7, 8, 9])"
      ]
     },
     "execution_count": 26,
     "metadata": {},
     "output_type": "execute_result"
    }
   ],
   "source": [
    "np.max(matrix,axis=0) # max in each col"
   ]
  },
  {
   "cell_type": "code",
   "execution_count": 27,
   "id": "619206b1",
   "metadata": {},
   "outputs": [
    {
     "data": {
      "text/plain": [
       "array([3, 6, 9])"
      ]
     },
     "execution_count": 27,
     "metadata": {},
     "output_type": "execute_result"
    }
   ],
   "source": [
    "np.max(matrix,axis=1) # max in each row"
   ]
  },
  {
   "cell_type": "markdown",
   "id": "0d77ae67",
   "metadata": {},
   "source": [
    "### operations on vectors and matrices"
   ]
  },
  {
   "cell_type": "code",
   "execution_count": 28,
   "id": "66825203",
   "metadata": {},
   "outputs": [],
   "source": [
    "def fun(x):\n",
    "    if x > 4:\n",
    "        return 0\n",
    "    return 1"
   ]
  },
  {
   "cell_type": "code",
   "execution_count": 29,
   "id": "1d95e215",
   "metadata": {},
   "outputs": [],
   "source": [
    "matrix_add = np.vectorize(fun)"
   ]
  },
  {
   "cell_type": "code",
   "execution_count": 30,
   "id": "d06412d6",
   "metadata": {},
   "outputs": [
    {
     "data": {
      "text/plain": [
       "array([[1, 1, 1],\n",
       "       [1, 0, 0],\n",
       "       [0, 0, 0]])"
      ]
     },
     "execution_count": 30,
     "metadata": {},
     "output_type": "execute_result"
    }
   ],
   "source": [
    "matrix_add(matrix)"
   ]
  },
  {
   "cell_type": "code",
   "execution_count": 31,
   "id": "3610d162",
   "metadata": {},
   "outputs": [
    {
     "data": {
      "text/plain": [
       "array([[101, 201, 301],\n",
       "       [401, 501, 601],\n",
       "       [701, 801, 901]])"
      ]
     },
     "execution_count": 31,
     "metadata": {},
     "output_type": "execute_result"
    }
   ],
   "source": [
    "matrix * 100 + 1"
   ]
  },
  {
   "cell_type": "markdown",
   "id": "62988519",
   "metadata": {},
   "source": [
    "### statistics"
   ]
  },
  {
   "cell_type": "code",
   "execution_count": 32,
   "id": "e7134f3f",
   "metadata": {},
   "outputs": [
    {
     "data": {
      "text/plain": [
       "5.0"
      ]
     },
     "execution_count": 32,
     "metadata": {},
     "output_type": "execute_result"
    }
   ],
   "source": [
    "np.mean(matrix)"
   ]
  },
  {
   "cell_type": "code",
   "execution_count": 33,
   "id": "51b36165",
   "metadata": {},
   "outputs": [
    {
     "data": {
      "text/plain": [
       "6.666666666666667"
      ]
     },
     "execution_count": 33,
     "metadata": {},
     "output_type": "execute_result"
    }
   ],
   "source": [
    "np.var(matrix)"
   ]
  },
  {
   "cell_type": "code",
   "execution_count": 34,
   "id": "8dbb7418",
   "metadata": {},
   "outputs": [
    {
     "data": {
      "text/plain": [
       "2.581988897471611"
      ]
     },
     "execution_count": 34,
     "metadata": {},
     "output_type": "execute_result"
    }
   ],
   "source": [
    "np.std(matrix)"
   ]
  },
  {
   "cell_type": "code",
   "execution_count": 35,
   "id": "db8e3b40",
   "metadata": {},
   "outputs": [
    {
     "data": {
      "text/plain": [
       "array([4., 5., 6.])"
      ]
     },
     "execution_count": 35,
     "metadata": {},
     "output_type": "execute_result"
    }
   ],
   "source": [
    "np.mean(matrix,axis=0) # mean in each col"
   ]
  },
  {
   "cell_type": "markdown",
   "id": "dfd8e23a",
   "metadata": {},
   "source": [
    "### reshaping"
   ]
  },
  {
   "cell_type": "code",
   "execution_count": 43,
   "id": "9a388b5e",
   "metadata": {},
   "outputs": [],
   "source": [
    "mat = np.array([[1,2,3,4],\n",
    "                [7,8,9,10],\n",
    "                [12,13,14,15]])"
   ]
  },
  {
   "cell_type": "code",
   "execution_count": 44,
   "id": "f1c2ce7d",
   "metadata": {},
   "outputs": [
    {
     "data": {
      "text/plain": [
       "(3, 4)"
      ]
     },
     "execution_count": 44,
     "metadata": {},
     "output_type": "execute_result"
    }
   ],
   "source": [
    "mat.shape"
   ]
  },
  {
   "cell_type": "code",
   "execution_count": 47,
   "id": "b68290a2",
   "metadata": {},
   "outputs": [
    {
     "data": {
      "text/plain": [
       "array([[ 1,  2],\n",
       "       [ 3,  4],\n",
       "       [ 7,  8],\n",
       "       [ 9, 10],\n",
       "       [12, 13],\n",
       "       [14, 15]])"
      ]
     },
     "execution_count": 47,
     "metadata": {},
     "output_type": "execute_result"
    }
   ],
   "source": [
    "mat.reshape(6,2)"
   ]
  },
  {
   "cell_type": "code",
   "execution_count": 48,
   "id": "83f46e70",
   "metadata": {},
   "outputs": [
    {
     "data": {
      "text/plain": [
       "12"
      ]
     },
     "execution_count": 48,
     "metadata": {},
     "output_type": "execute_result"
    }
   ],
   "source": [
    "mat.size"
   ]
  },
  {
   "cell_type": "code",
   "execution_count": 49,
   "id": "7e6dde9b",
   "metadata": {},
   "outputs": [
    {
     "data": {
      "text/plain": [
       "array([ 1,  2,  3,  4,  7,  8,  9, 10, 12, 13, 14, 15])"
      ]
     },
     "execution_count": 49,
     "metadata": {},
     "output_type": "execute_result"
    }
   ],
   "source": [
    "mat.reshape(12)"
   ]
  },
  {
   "cell_type": "markdown",
   "id": "f91313f7",
   "metadata": {},
   "source": [
    "### transpose"
   ]
  },
  {
   "cell_type": "code",
   "execution_count": 50,
   "id": "7010ca9d",
   "metadata": {},
   "outputs": [
    {
     "data": {
      "text/plain": [
       "array([[1, 4, 7],\n",
       "       [2, 5, 8],\n",
       "       [3, 6, 9]])"
      ]
     },
     "execution_count": 50,
     "metadata": {},
     "output_type": "execute_result"
    }
   ],
   "source": [
    "matrix.T"
   ]
  },
  {
   "cell_type": "code",
   "execution_count": 64,
   "id": "7da9f15d",
   "metadata": {},
   "outputs": [],
   "source": [
    "row = np.array([[1,2,3,4,5]]) # must turn 1-d array(vector) to 2-d array first "
   ]
  },
  {
   "cell_type": "code",
   "execution_count": 65,
   "id": "1dc2f8e5",
   "metadata": {},
   "outputs": [
    {
     "data": {
      "text/plain": [
       "array([[1],\n",
       "       [2],\n",
       "       [3],\n",
       "       [4],\n",
       "       [5]])"
      ]
     },
     "execution_count": 65,
     "metadata": {},
     "output_type": "execute_result"
    }
   ],
   "source": [
    "row.T"
   ]
  },
  {
   "cell_type": "markdown",
   "id": "0d6c4d8e",
   "metadata": {},
   "source": [
    "### flatten a matrix"
   ]
  },
  {
   "cell_type": "code",
   "execution_count": 66,
   "id": "ef7851af",
   "metadata": {},
   "outputs": [
    {
     "data": {
      "text/plain": [
       "array([1, 2, 3, 4, 5, 6, 7, 8, 9])"
      ]
     },
     "execution_count": 66,
     "metadata": {},
     "output_type": "execute_result"
    }
   ],
   "source": [
    "matrix.flatten()"
   ]
  },
  {
   "cell_type": "markdown",
   "id": "3bba351f",
   "metadata": {},
   "source": [
    "### diagonal"
   ]
  },
  {
   "cell_type": "code",
   "execution_count": 67,
   "id": "f20672b3",
   "metadata": {},
   "outputs": [
    {
     "data": {
      "text/plain": [
       "array([1, 5, 9])"
      ]
     },
     "execution_count": 67,
     "metadata": {},
     "output_type": "execute_result"
    }
   ],
   "source": [
    "matrix.diagonal()"
   ]
  },
  {
   "cell_type": "markdown",
   "id": "1161e1fc",
   "metadata": {},
   "source": [
    "### mathematical operations"
   ]
  },
  {
   "cell_type": "code",
   "execution_count": 76,
   "id": "481f20d9",
   "metadata": {},
   "outputs": [],
   "source": [
    "A = np.array([1,2,3])\n",
    "B = np.array([4,5,6])"
   ]
  },
  {
   "cell_type": "code",
   "execution_count": 79,
   "id": "685cebf5",
   "metadata": {},
   "outputs": [],
   "source": [
    "dot = np.dot(A,B)"
   ]
  },
  {
   "cell_type": "code",
   "execution_count": 81,
   "id": "cb8baac0",
   "metadata": {},
   "outputs": [
    {
     "data": {
      "text/plain": [
       "32"
      ]
     },
     "execution_count": 81,
     "metadata": {},
     "output_type": "execute_result"
    }
   ],
   "source": [
    "dot"
   ]
  },
  {
   "cell_type": "code",
   "execution_count": 82,
   "id": "31945143",
   "metadata": {},
   "outputs": [],
   "source": [
    "add = np.add(A,B)"
   ]
  },
  {
   "cell_type": "code",
   "execution_count": 83,
   "id": "a1d87dad",
   "metadata": {},
   "outputs": [
    {
     "data": {
      "text/plain": [
       "array([5, 7, 9])"
      ]
     },
     "execution_count": 83,
     "metadata": {},
     "output_type": "execute_result"
    }
   ],
   "source": [
    "add"
   ]
  },
  {
   "cell_type": "code",
   "execution_count": 84,
   "id": "ba47e1fd",
   "metadata": {},
   "outputs": [],
   "source": [
    "sub = np.subtract(A,B)"
   ]
  },
  {
   "cell_type": "code",
   "execution_count": 85,
   "id": "80f55a49",
   "metadata": {},
   "outputs": [
    {
     "data": {
      "text/plain": [
       "array([-3, -3, -3])"
      ]
     },
     "execution_count": 85,
     "metadata": {},
     "output_type": "execute_result"
    }
   ],
   "source": [
    "sub"
   ]
  },
  {
   "cell_type": "markdown",
   "id": "2fa9b144",
   "metadata": {},
   "source": [
    "### generate random numbers"
   ]
  },
  {
   "cell_type": "code",
   "execution_count": 92,
   "id": "960d1af7",
   "metadata": {},
   "outputs": [
    {
     "data": {
      "text/plain": [
       "array([0.275958  , 0.96774166, 0.1040722 , 0.81562092, 0.84176579])"
      ]
     },
     "execution_count": 92,
     "metadata": {},
     "output_type": "execute_result"
    }
   ],
   "source": [
    "np.random.random(5) # 5 random float numbers"
   ]
  },
  {
   "cell_type": "code",
   "execution_count": 93,
   "id": "cf942eb6",
   "metadata": {},
   "outputs": [
    {
     "data": {
      "text/plain": [
       "array([8, 4, 7, 7, 1])"
      ]
     },
     "execution_count": 93,
     "metadata": {},
     "output_type": "execute_result"
    }
   ],
   "source": [
    "np.random.randint(0,10,5) # 5 random integers between 0 and 10"
   ]
  },
  {
   "cell_type": "code",
   "execution_count": 94,
   "id": "6c367857",
   "metadata": {},
   "outputs": [
    {
     "data": {
      "text/plain": [
       "array([2.92727935, 1.93042522, 3.01596358])"
      ]
     },
     "execution_count": 94,
     "metadata": {},
     "output_type": "execute_result"
    }
   ],
   "source": [
    "np.random.uniform(1,5,3) # 3 random float numbers between 1 and 5"
   ]
  },
  {
   "cell_type": "code",
   "execution_count": null,
   "id": "f3b4e81a",
   "metadata": {},
   "outputs": [],
   "source": []
  }
 ],
 "metadata": {
  "kernelspec": {
   "display_name": "Python 3 (ipykernel)",
   "language": "python",
   "name": "python3"
  },
  "language_info": {
   "codemirror_mode": {
    "name": "ipython",
    "version": 3
   },
   "file_extension": ".py",
   "mimetype": "text/x-python",
   "name": "python",
   "nbconvert_exporter": "python",
   "pygments_lexer": "ipython3",
   "version": "3.9.12"
  }
 },
 "nbformat": 4,
 "nbformat_minor": 5
}
