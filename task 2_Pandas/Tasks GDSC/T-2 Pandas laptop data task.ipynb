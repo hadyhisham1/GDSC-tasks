{
 "cells": [
  {
   "cell_type": "code",
   "execution_count": 1,
   "id": "8ce51118",
   "metadata": {},
   "outputs": [],
   "source": [
    "# your name here please\n",
    "# Hady hisham"
   ]
  },
  {
   "cell_type": "markdown",
   "id": "9937551d",
   "metadata": {},
   "source": [
    "## import pandas as pd"
   ]
  },
  {
   "cell_type": "code",
   "execution_count": 2,
   "id": "1b569cd7",
   "metadata": {},
   "outputs": [],
   "source": [
    "import pandas as pd"
   ]
  },
  {
   "cell_type": "markdown",
   "id": "923b5b39",
   "metadata": {},
   "source": [
    "## Read the Data "
   ]
  },
  {
   "cell_type": "code",
   "execution_count": 31,
   "id": "77b7109c",
   "metadata": {},
   "outputs": [],
   "source": [
    "hdf = pd.read_csv(\"laptop_data.csv\")"
   ]
  },
  {
   "cell_type": "markdown",
   "id": "0f86fe7c",
   "metadata": {},
   "source": [
    "## Display all information about data "
   ]
  },
  {
   "cell_type": "code",
   "execution_count": 5,
   "id": "2db599c3",
   "metadata": {},
   "outputs": [
    {
     "data": {
      "text/html": [
       "<div>\n",
       "<style scoped>\n",
       "    .dataframe tbody tr th:only-of-type {\n",
       "        vertical-align: middle;\n",
       "    }\n",
       "\n",
       "    .dataframe tbody tr th {\n",
       "        vertical-align: top;\n",
       "    }\n",
       "\n",
       "    .dataframe thead th {\n",
       "        text-align: right;\n",
       "    }\n",
       "</style>\n",
       "<table border=\"1\" class=\"dataframe\">\n",
       "  <thead>\n",
       "    <tr style=\"text-align: right;\">\n",
       "      <th></th>\n",
       "      <th>Unnamed: 0</th>\n",
       "      <th>Company</th>\n",
       "      <th>TypeName</th>\n",
       "      <th>Inches</th>\n",
       "      <th>ScreenResolution</th>\n",
       "      <th>Cpu</th>\n",
       "      <th>Ram</th>\n",
       "      <th>Memory</th>\n",
       "      <th>Gpu</th>\n",
       "      <th>OpSys</th>\n",
       "      <th>Weight</th>\n",
       "      <th>Price</th>\n",
       "    </tr>\n",
       "  </thead>\n",
       "  <tbody>\n",
       "    <tr>\n",
       "      <th>0</th>\n",
       "      <td>0</td>\n",
       "      <td>Apple</td>\n",
       "      <td>Ultrabook</td>\n",
       "      <td>13.3</td>\n",
       "      <td>IPS Panel Retina Display 2560x1600</td>\n",
       "      <td>Intel Core i5 2.3GHz</td>\n",
       "      <td>8GB</td>\n",
       "      <td>128.0GB SSD</td>\n",
       "      <td>Intel Iris Plus Graphics 640</td>\n",
       "      <td>macOS</td>\n",
       "      <td>1.37kg</td>\n",
       "      <td>71378.6832</td>\n",
       "    </tr>\n",
       "    <tr>\n",
       "      <th>1</th>\n",
       "      <td>1</td>\n",
       "      <td>Apple</td>\n",
       "      <td>Ultrabook</td>\n",
       "      <td>13.3</td>\n",
       "      <td>1440x900</td>\n",
       "      <td>Intel Core i5 1.8GHz</td>\n",
       "      <td>8GB</td>\n",
       "      <td>128GB Flash Storage</td>\n",
       "      <td>Intel HD Graphics 6000</td>\n",
       "      <td>macOS</td>\n",
       "      <td>1.34kg</td>\n",
       "      <td>47895.5232</td>\n",
       "    </tr>\n",
       "    <tr>\n",
       "      <th>2</th>\n",
       "      <td>2</td>\n",
       "      <td>HP</td>\n",
       "      <td>Notebook</td>\n",
       "      <td>15.6</td>\n",
       "      <td>Full HD 1920x1080</td>\n",
       "      <td>Intel Core i5 7200U 2.5GHz</td>\n",
       "      <td>8GB</td>\n",
       "      <td>256GB SSD</td>\n",
       "      <td>Intel HD Graphics 620</td>\n",
       "      <td>No OS</td>\n",
       "      <td>1.86kg</td>\n",
       "      <td>30636.0000</td>\n",
       "    </tr>\n",
       "    <tr>\n",
       "      <th>3</th>\n",
       "      <td>3</td>\n",
       "      <td>Apple</td>\n",
       "      <td>Ultrabook</td>\n",
       "      <td>15.4</td>\n",
       "      <td>IPS Panel Retina Display 2880x1800</td>\n",
       "      <td>Intel Core i7 2.7GHz</td>\n",
       "      <td>16GB</td>\n",
       "      <td>512GB SSD</td>\n",
       "      <td>AMD Radeon Pro 455</td>\n",
       "      <td>macOS</td>\n",
       "      <td>1.83kg</td>\n",
       "      <td>135195.3360</td>\n",
       "    </tr>\n",
       "    <tr>\n",
       "      <th>4</th>\n",
       "      <td>4</td>\n",
       "      <td>Apple</td>\n",
       "      <td>Ultrabook</td>\n",
       "      <td>13.3</td>\n",
       "      <td>IPS Panel Retina Display 2560x1600</td>\n",
       "      <td>Intel Core i5 3.1GHz</td>\n",
       "      <td>8GB</td>\n",
       "      <td>256GB SSD</td>\n",
       "      <td>Intel Iris Plus Graphics 650</td>\n",
       "      <td>macOS</td>\n",
       "      <td>1.37kg</td>\n",
       "      <td>96095.8080</td>\n",
       "    </tr>\n",
       "  </tbody>\n",
       "</table>\n",
       "</div>"
      ],
      "text/plain": [
       "   Unnamed: 0 Company   TypeName  Inches                    ScreenResolution  \\\n",
       "0           0   Apple  Ultrabook    13.3  IPS Panel Retina Display 2560x1600   \n",
       "1           1   Apple  Ultrabook    13.3                            1440x900   \n",
       "2           2      HP   Notebook    15.6                   Full HD 1920x1080   \n",
       "3           3   Apple  Ultrabook    15.4  IPS Panel Retina Display 2880x1800   \n",
       "4           4   Apple  Ultrabook    13.3  IPS Panel Retina Display 2560x1600   \n",
       "\n",
       "                          Cpu   Ram               Memory  \\\n",
       "0        Intel Core i5 2.3GHz   8GB          128.0GB SSD   \n",
       "1        Intel Core i5 1.8GHz   8GB  128GB Flash Storage   \n",
       "2  Intel Core i5 7200U 2.5GHz   8GB            256GB SSD   \n",
       "3        Intel Core i7 2.7GHz  16GB            512GB SSD   \n",
       "4        Intel Core i5 3.1GHz   8GB            256GB SSD   \n",
       "\n",
       "                            Gpu  OpSys  Weight        Price  \n",
       "0  Intel Iris Plus Graphics 640  macOS  1.37kg   71378.6832  \n",
       "1        Intel HD Graphics 6000  macOS  1.34kg   47895.5232  \n",
       "2         Intel HD Graphics 620  No OS  1.86kg   30636.0000  \n",
       "3            AMD Radeon Pro 455  macOS  1.83kg  135195.3360  \n",
       "4  Intel Iris Plus Graphics 650  macOS  1.37kg   96095.8080  "
      ]
     },
     "execution_count": 5,
     "metadata": {},
     "output_type": "execute_result"
    }
   ],
   "source": [
    "hdf.head(5)"
   ]
  },
  {
   "cell_type": "code",
   "execution_count": 22,
   "id": "cb0bfea4",
   "metadata": {},
   "outputs": [
    {
     "data": {
      "text/plain": [
       "Dell         297\n",
       "Lenovo       297\n",
       "HP           274\n",
       "Asus         158\n",
       "Acer         103\n",
       "MSI           54\n",
       "Toshiba       48\n",
       "Apple         21\n",
       "Samsung        9\n",
       "Razer          7\n",
       "Mediacom       7\n",
       "Microsoft      6\n",
       "Xiaomi         4\n",
       "Vero           4\n",
       "Chuwi          3\n",
       "Google         3\n",
       "Fujitsu        3\n",
       "LG             3\n",
       "Huawei         2\n",
       "Name: Company, dtype: int64"
      ]
     },
     "execution_count": 22,
     "metadata": {},
     "output_type": "execute_result"
    }
   ],
   "source": [
    "hdf['Company'].value_counts()"
   ]
  },
  {
   "cell_type": "code",
   "execution_count": 23,
   "id": "b1ccb150",
   "metadata": {},
   "outputs": [
    {
     "data": {
      "text/plain": [
       "Full HD 1920x1080                                507\n",
       "1366x768                                         281\n",
       "IPS Panel Full HD 1920x1080                      230\n",
       "IPS Panel Full HD / Touchscreen 1920x1080         53\n",
       "Full HD / Touchscreen 1920x1080                   47\n",
       "1600x900                                          23\n",
       "Touchscreen 1366x768                              16\n",
       "Quad HD+ / Touchscreen 3200x1800                  15\n",
       "IPS Panel 4K Ultra HD 3840x2160                   12\n",
       "IPS Panel 4K Ultra HD / Touchscreen 3840x2160     11\n",
       "4K Ultra HD / Touchscreen 3840x2160               10\n",
       "4K Ultra HD 3840x2160                              7\n",
       "Touchscreen 2560x1440                              7\n",
       "IPS Panel 1366x768                                 7\n",
       "IPS Panel Quad HD+ / Touchscreen 3200x1800         6\n",
       "IPS Panel Retina Display 2560x1600                 6\n",
       "IPS Panel Retina Display 2304x1440                 6\n",
       "Touchscreen 2256x1504                              6\n",
       "IPS Panel Touchscreen 2560x1440                    5\n",
       "IPS Panel Retina Display 2880x1800                 4\n",
       "IPS Panel Touchscreen 1920x1200                    4\n",
       "1440x900                                           4\n",
       "IPS Panel 2560x1440                                4\n",
       "IPS Panel Quad HD+ 2560x1440                       3\n",
       "Quad HD+ 3200x1800                                 3\n",
       "1920x1080                                          3\n",
       "Touchscreen 2400x1600                              3\n",
       "2560x1440                                          3\n",
       "IPS Panel Touchscreen 1366x768                     3\n",
       "IPS Panel Touchscreen / 4K Ultra HD 3840x2160      2\n",
       "IPS Panel Full HD 2160x1440                        2\n",
       "IPS Panel Quad HD+ 3200x1800                       2\n",
       "IPS Panel Retina Display 2736x1824                 1\n",
       "IPS Panel Full HD 1920x1200                        1\n",
       "IPS Panel Full HD 2560x1440                        1\n",
       "IPS Panel Full HD 1366x768                         1\n",
       "Touchscreen / Full HD 1920x1080                    1\n",
       "Touchscreen / Quad HD+ 3200x1800                   1\n",
       "Touchscreen / 4K Ultra HD 3840x2160                1\n",
       "IPS Panel Touchscreen 2400x1600                    1\n",
       "Name: ScreenResolution, dtype: int64"
      ]
     },
     "execution_count": 23,
     "metadata": {},
     "output_type": "execute_result"
    }
   ],
   "source": [
    "hdf['ScreenResolution'].value_counts()"
   ]
  },
  {
   "cell_type": "code",
   "execution_count": 24,
   "id": "8c281a2a",
   "metadata": {},
   "outputs": [
    {
     "data": {
      "text/plain": [
       "Intel Core i5 7200U 2.5GHz       190\n",
       "Intel Core i7 7700HQ 2.8GHz      146\n",
       "Intel Core i7 7500U 2.7GHz       134\n",
       "Intel Core i7 8550U 1.8GHz        73\n",
       "Intel Core i5 8250U 1.6GHz        72\n",
       "                                ... \n",
       "Intel Core M M3-6Y30 0.9GHz        1\n",
       "AMD A9-Series 9420 2.9GHz          1\n",
       "Intel Core i3 6006U 2.2GHz         1\n",
       "AMD A6-Series 7310 2GHz            1\n",
       "Intel Xeon E3-1535M v6 3.1GHz      1\n",
       "Name: Cpu, Length: 118, dtype: int64"
      ]
     },
     "execution_count": 24,
     "metadata": {},
     "output_type": "execute_result"
    }
   ],
   "source": [
    "hdf['Cpu'].value_counts()"
   ]
  },
  {
   "cell_type": "code",
   "execution_count": 25,
   "id": "d3fcb0bb",
   "metadata": {},
   "outputs": [
    {
     "data": {
      "text/plain": [
       "Series([], Name: Ram, dtype: int64)"
      ]
     },
     "execution_count": 25,
     "metadata": {},
     "output_type": "execute_result"
    }
   ],
   "source": [
    "hdf['Ram'].value_counts()"
   ]
  },
  {
   "cell_type": "code",
   "execution_count": 26,
   "id": "25eb0991",
   "metadata": {},
   "outputs": [
    {
     "data": {
      "text/plain": [
       "256GB SSD                        412\n",
       "1TB HDD                          223\n",
       "500GB HDD                        132\n",
       "512GB SSD                        118\n",
       "128GB SSD +  1TB HDD              94\n",
       "128GB SSD                         75\n",
       "256GB SSD +  1TB HDD              73\n",
       "32GB Flash Storage                38\n",
       "2TB HDD                           16\n",
       "64GB Flash Storage                15\n",
       "1TB SSD                           14\n",
       "512GB SSD +  1TB HDD              14\n",
       "256GB SSD +  2TB HDD              10\n",
       "1.0TB Hybrid                       9\n",
       "256GB Flash Storage                8\n",
       "16GB Flash Storage                 7\n",
       "32GB SSD                           6\n",
       "180GB SSD                          5\n",
       "128GB Flash Storage                4\n",
       "512GB SSD +  2TB HDD               3\n",
       "16GB SSD                           3\n",
       "256GB SSD +  500GB HDD             2\n",
       "1TB SSD +  1TB HDD                 2\n",
       "128GB SSD +  2TB HDD               2\n",
       "512GB Flash Storage                2\n",
       "256GB SSD +  256GB SSD             2\n",
       "1.0TB HDD                          1\n",
       "508GB Hybrid                       1\n",
       "8GB SSD                            1\n",
       "240GB SSD                          1\n",
       "128GB HDD                          1\n",
       "512GB SSD +  1.0TB Hybrid          1\n",
       "128.0GB SSD                        1\n",
       "32GB HDD                           1\n",
       "1TB HDD +  1TB HDD                 1\n",
       "64GB Flash Storage +  1TB HDD      1\n",
       "512GB SSD +  256GB SSD             1\n",
       "512GB SSD +  512GB SSD             1\n",
       "64GB SSD                           1\n",
       "256GB SSD +  1.0TB Hybrid          1\n",
       "Name: Memory, dtype: int64"
      ]
     },
     "execution_count": 26,
     "metadata": {},
     "output_type": "execute_result"
    }
   ],
   "source": [
    "hdf['Memory'].value_counts()"
   ]
  },
  {
   "cell_type": "code",
   "execution_count": 10,
   "id": "bd10b7bf",
   "metadata": {},
   "outputs": [
    {
     "data": {
      "text/plain": [
       "Intel HD Graphics 620      281\n",
       "Intel HD Graphics 520      185\n",
       "Intel UHD Graphics 620      68\n",
       "Nvidia GeForce GTX 1050     66\n",
       "Nvidia GeForce GTX 1060     48\n",
       "                          ... \n",
       "AMD Radeon R5 520            1\n",
       "AMD Radeon R7                1\n",
       "Intel HD Graphics 540        1\n",
       "AMD Radeon 540               1\n",
       "ARM Mali T860 MP4            1\n",
       "Name: Gpu, Length: 110, dtype: int64"
      ]
     },
     "execution_count": 10,
     "metadata": {},
     "output_type": "execute_result"
    }
   ],
   "source": [
    "hdf['Gpu'].value_counts()"
   ]
  },
  {
   "cell_type": "code",
   "execution_count": 11,
   "id": "54bb874b",
   "metadata": {},
   "outputs": [
    {
     "data": {
      "text/plain": [
       "Windows 10      1072\n",
       "No OS             66\n",
       "Linux             62\n",
       "Windows 7         45\n",
       "Chrome OS         27\n",
       "macOS             13\n",
       "Mac OS X           8\n",
       "Windows 10 S       8\n",
       "Android            2\n",
       "Name: OpSys, dtype: int64"
      ]
     },
     "execution_count": 11,
     "metadata": {},
     "output_type": "execute_result"
    }
   ],
   "source": [
    "hdf['OpSys'].value_counts()"
   ]
  },
  {
   "cell_type": "markdown",
   "id": "c6a5b8e1",
   "metadata": {},
   "source": [
    "# Show correlation between data "
   ]
  },
  {
   "cell_type": "code",
   "execution_count": 30,
   "id": "eea6ae50",
   "metadata": {},
   "outputs": [
    {
     "data": {
      "text/html": [
       "<div>\n",
       "<style scoped>\n",
       "    .dataframe tbody tr th:only-of-type {\n",
       "        vertical-align: middle;\n",
       "    }\n",
       "\n",
       "    .dataframe tbody tr th {\n",
       "        vertical-align: top;\n",
       "    }\n",
       "\n",
       "    .dataframe thead th {\n",
       "        text-align: right;\n",
       "    }\n",
       "</style>\n",
       "<table border=\"1\" class=\"dataframe\">\n",
       "  <thead>\n",
       "    <tr style=\"text-align: right;\">\n",
       "      <th></th>\n",
       "      <th>Unnamed: 0</th>\n",
       "      <th>Inches</th>\n",
       "      <th>Price</th>\n",
       "    </tr>\n",
       "  </thead>\n",
       "  <tbody>\n",
       "    <tr>\n",
       "      <th>Unnamed: 0</th>\n",
       "      <td>1.000000</td>\n",
       "      <td>-0.087936</td>\n",
       "      <td>0.067984</td>\n",
       "    </tr>\n",
       "    <tr>\n",
       "      <th>Inches</th>\n",
       "      <td>-0.087936</td>\n",
       "      <td>1.000000</td>\n",
       "      <td>0.068197</td>\n",
       "    </tr>\n",
       "    <tr>\n",
       "      <th>Price</th>\n",
       "      <td>0.067984</td>\n",
       "      <td>0.068197</td>\n",
       "      <td>1.000000</td>\n",
       "    </tr>\n",
       "  </tbody>\n",
       "</table>\n",
       "</div>"
      ],
      "text/plain": [
       "            Unnamed: 0    Inches     Price\n",
       "Unnamed: 0    1.000000 -0.087936  0.067984\n",
       "Inches       -0.087936  1.000000  0.068197\n",
       "Price         0.067984  0.068197  1.000000"
      ]
     },
     "execution_count": 30,
     "metadata": {},
     "output_type": "execute_result"
    }
   ],
   "source": [
    "hdf.corr()"
   ]
  },
  {
   "cell_type": "markdown",
   "id": "476ddc1e",
   "metadata": {},
   "source": [
    "## Show correletaion between all columns and target column only "
   ]
  },
  {
   "cell_type": "code",
   "execution_count": 32,
   "id": "c9fa017d",
   "metadata": {},
   "outputs": [
    {
     "data": {
      "text/plain": [
       "Price         1.000000\n",
       "Inches        0.068197\n",
       "Unnamed: 0    0.067984\n",
       "Name: Price, dtype: float64"
      ]
     },
     "execution_count": 32,
     "metadata": {},
     "output_type": "execute_result"
    }
   ],
   "source": [
    "#corelation for Price column\n",
    "corr_matrix=hdf.corr()\n",
    "corr_matrix[\"Price\"].sort_values(ascending=False)"
   ]
  },
  {
   "cell_type": "markdown",
   "id": "58600a76",
   "metadata": {},
   "source": [
    "## Show if any null values ? "
   ]
  },
  {
   "cell_type": "code",
   "execution_count": 12,
   "id": "e37f9935",
   "metadata": {},
   "outputs": [
    {
     "data": {
      "text/plain": [
       "Unnamed: 0  Company  TypeName  Inches  ScreenResolution  Cpu    Ram    Memory  Gpu    OpSys  Weight  Price\n",
       "False       False    False     False   False             False  False  False   False  False  False   False    1303\n",
       "dtype: int64"
      ]
     },
     "execution_count": 12,
     "metadata": {},
     "output_type": "execute_result"
    }
   ],
   "source": [
    "hdf.isnull().value_counts()"
   ]
  },
  {
   "cell_type": "markdown",
   "id": "bdf9bbc3",
   "metadata": {},
   "source": [
    "## Show if any Duplicated values ? "
   ]
  },
  {
   "cell_type": "code",
   "execution_count": 13,
   "id": "e6d2cd10",
   "metadata": {},
   "outputs": [
    {
     "data": {
      "text/plain": [
       "True     1284\n",
       "False      19\n",
       "Name: Company, dtype: int64"
      ]
     },
     "execution_count": 13,
     "metadata": {},
     "output_type": "execute_result"
    }
   ],
   "source": [
    "hdf['Company'].duplicated().value_counts()"
   ]
  },
  {
   "cell_type": "code",
   "execution_count": 14,
   "id": "63ce5a5c",
   "metadata": {},
   "outputs": [
    {
     "data": {
      "text/plain": [
       "True     1297\n",
       "False       6\n",
       "Name: TypeName, dtype: int64"
      ]
     },
     "execution_count": 14,
     "metadata": {},
     "output_type": "execute_result"
    }
   ],
   "source": [
    "hdf['TypeName'].duplicated().value_counts()"
   ]
  },
  {
   "cell_type": "code",
   "execution_count": 15,
   "id": "5b10494b",
   "metadata": {},
   "outputs": [
    {
     "data": {
      "text/plain": [
       "True     1285\n",
       "False      18\n",
       "Name: Inches, dtype: int64"
      ]
     },
     "execution_count": 15,
     "metadata": {},
     "output_type": "execute_result"
    }
   ],
   "source": [
    "hdf['Inches'].duplicated().value_counts()"
   ]
  },
  {
   "cell_type": "code",
   "execution_count": 17,
   "id": "bc9a2b6e",
   "metadata": {},
   "outputs": [
    {
     "data": {
      "text/plain": [
       "True     1263\n",
       "False      40\n",
       "Name: ScreenResolution, dtype: int64"
      ]
     },
     "execution_count": 17,
     "metadata": {},
     "output_type": "execute_result"
    }
   ],
   "source": [
    "hdf['ScreenResolution'].duplicated().value_counts()"
   ]
  },
  {
   "cell_type": "code",
   "execution_count": 16,
   "id": "cbe8bc25",
   "metadata": {},
   "outputs": [
    {
     "data": {
      "text/plain": [
       "True     1185\n",
       "False     118\n",
       "Name: Cpu, dtype: int64"
      ]
     },
     "execution_count": 16,
     "metadata": {},
     "output_type": "execute_result"
    }
   ],
   "source": [
    "hdf['Cpu'].duplicated().value_counts()"
   ]
  },
  {
   "cell_type": "code",
   "execution_count": 18,
   "id": "acda7e1a",
   "metadata": {},
   "outputs": [
    {
     "data": {
      "text/plain": [
       "True     1294\n",
       "False       9\n",
       "Name: Ram, dtype: int64"
      ]
     },
     "execution_count": 18,
     "metadata": {},
     "output_type": "execute_result"
    }
   ],
   "source": [
    "hdf['Ram'].duplicated().value_counts()"
   ]
  },
  {
   "cell_type": "code",
   "execution_count": 19,
   "id": "e6bea994",
   "metadata": {},
   "outputs": [
    {
     "data": {
      "text/plain": [
       "True     1263\n",
       "False      40\n",
       "Name: Memory, dtype: int64"
      ]
     },
     "execution_count": 19,
     "metadata": {},
     "output_type": "execute_result"
    }
   ],
   "source": [
    "hdf['Memory'].duplicated().value_counts()"
   ]
  },
  {
   "cell_type": "code",
   "execution_count": 21,
   "id": "82f4b7ff",
   "metadata": {},
   "outputs": [
    {
     "data": {
      "text/plain": [
       "True     1193\n",
       "False     110\n",
       "Name: Gpu, dtype: int64"
      ]
     },
     "execution_count": 21,
     "metadata": {},
     "output_type": "execute_result"
    }
   ],
   "source": [
    "hdf['Gpu'].duplicated().value_counts()"
   ]
  },
  {
   "cell_type": "code",
   "execution_count": 22,
   "id": "20c16344",
   "metadata": {},
   "outputs": [
    {
     "data": {
      "text/plain": [
       "True     1294\n",
       "False       9\n",
       "Name: OpSys, dtype: int64"
      ]
     },
     "execution_count": 22,
     "metadata": {},
     "output_type": "execute_result"
    }
   ],
   "source": [
    "hdf['OpSys'].duplicated().value_counts()"
   ]
  },
  {
   "cell_type": "code",
   "execution_count": 23,
   "id": "e77e0047",
   "metadata": {},
   "outputs": [
    {
     "data": {
      "text/plain": [
       "True     1124\n",
       "False     179\n",
       "Name: Weight, dtype: int64"
      ]
     },
     "execution_count": 23,
     "metadata": {},
     "output_type": "execute_result"
    }
   ],
   "source": [
    "hdf['Weight'].duplicated().value_counts()"
   ]
  },
  {
   "cell_type": "code",
   "execution_count": 24,
   "id": "ebf9eb0f",
   "metadata": {},
   "outputs": [
    {
     "data": {
      "text/plain": [
       "False    791\n",
       "True     512\n",
       "Name: Price, dtype: int64"
      ]
     },
     "execution_count": 24,
     "metadata": {},
     "output_type": "execute_result"
    }
   ],
   "source": [
    "hdf['Price'].duplicated().value_counts()"
   ]
  },
  {
   "cell_type": "markdown",
   "id": "31527432",
   "metadata": {},
   "source": [
    "## Drop Unnamed: 0 Column "
   ]
  },
  {
   "cell_type": "code",
   "execution_count": 27,
   "id": "dae1f238",
   "metadata": {},
   "outputs": [],
   "source": [
    "hdf.drop(columns=['Unnamed: 0'],inplace=True)"
   ]
  },
  {
   "cell_type": "code",
   "execution_count": 28,
   "id": "523ae539",
   "metadata": {},
   "outputs": [
    {
     "data": {
      "text/html": [
       "<div>\n",
       "<style scoped>\n",
       "    .dataframe tbody tr th:only-of-type {\n",
       "        vertical-align: middle;\n",
       "    }\n",
       "\n",
       "    .dataframe tbody tr th {\n",
       "        vertical-align: top;\n",
       "    }\n",
       "\n",
       "    .dataframe thead th {\n",
       "        text-align: right;\n",
       "    }\n",
       "</style>\n",
       "<table border=\"1\" class=\"dataframe\">\n",
       "  <thead>\n",
       "    <tr style=\"text-align: right;\">\n",
       "      <th></th>\n",
       "      <th>Company</th>\n",
       "      <th>TypeName</th>\n",
       "      <th>Inches</th>\n",
       "      <th>ScreenResolution</th>\n",
       "      <th>Cpu</th>\n",
       "      <th>Ram</th>\n",
       "      <th>Memory</th>\n",
       "      <th>Gpu</th>\n",
       "      <th>OpSys</th>\n",
       "      <th>Weight</th>\n",
       "      <th>Price</th>\n",
       "    </tr>\n",
       "  </thead>\n",
       "  <tbody>\n",
       "    <tr>\n",
       "      <th>0</th>\n",
       "      <td>Apple</td>\n",
       "      <td>Ultrabook</td>\n",
       "      <td>13.3</td>\n",
       "      <td>IPS Panel Retina Display 2560x1600</td>\n",
       "      <td>Intel Core i5 2.3GHz</td>\n",
       "      <td>None</td>\n",
       "      <td>128.0GB SSD</td>\n",
       "      <td>Intel Iris Plus Graphics 640</td>\n",
       "      <td>macOS</td>\n",
       "      <td>1.37kg</td>\n",
       "      <td>71378.6832</td>\n",
       "    </tr>\n",
       "    <tr>\n",
       "      <th>1</th>\n",
       "      <td>Apple</td>\n",
       "      <td>Ultrabook</td>\n",
       "      <td>13.3</td>\n",
       "      <td>1440x900</td>\n",
       "      <td>Intel Core i5 1.8GHz</td>\n",
       "      <td>None</td>\n",
       "      <td>128GB Flash Storage</td>\n",
       "      <td>Intel HD Graphics 6000</td>\n",
       "      <td>macOS</td>\n",
       "      <td>1.34kg</td>\n",
       "      <td>47895.5232</td>\n",
       "    </tr>\n",
       "    <tr>\n",
       "      <th>2</th>\n",
       "      <td>HP</td>\n",
       "      <td>Notebook</td>\n",
       "      <td>15.6</td>\n",
       "      <td>Full HD 1920x1080</td>\n",
       "      <td>Intel Core i5 7200U 2.5GHz</td>\n",
       "      <td>None</td>\n",
       "      <td>256GB SSD</td>\n",
       "      <td>Intel HD Graphics 620</td>\n",
       "      <td>No OS</td>\n",
       "      <td>1.86kg</td>\n",
       "      <td>30636.0000</td>\n",
       "    </tr>\n",
       "    <tr>\n",
       "      <th>3</th>\n",
       "      <td>Apple</td>\n",
       "      <td>Ultrabook</td>\n",
       "      <td>15.4</td>\n",
       "      <td>IPS Panel Retina Display 2880x1800</td>\n",
       "      <td>Intel Core i7 2.7GHz</td>\n",
       "      <td>None</td>\n",
       "      <td>512GB SSD</td>\n",
       "      <td>AMD Radeon Pro 455</td>\n",
       "      <td>macOS</td>\n",
       "      <td>1.83kg</td>\n",
       "      <td>135195.3360</td>\n",
       "    </tr>\n",
       "    <tr>\n",
       "      <th>4</th>\n",
       "      <td>Apple</td>\n",
       "      <td>Ultrabook</td>\n",
       "      <td>13.3</td>\n",
       "      <td>IPS Panel Retina Display 2560x1600</td>\n",
       "      <td>Intel Core i5 3.1GHz</td>\n",
       "      <td>None</td>\n",
       "      <td>256GB SSD</td>\n",
       "      <td>Intel Iris Plus Graphics 650</td>\n",
       "      <td>macOS</td>\n",
       "      <td>1.37kg</td>\n",
       "      <td>96095.8080</td>\n",
       "    </tr>\n",
       "  </tbody>\n",
       "</table>\n",
       "</div>"
      ],
      "text/plain": [
       "  Company   TypeName  Inches                    ScreenResolution  \\\n",
       "0   Apple  Ultrabook    13.3  IPS Panel Retina Display 2560x1600   \n",
       "1   Apple  Ultrabook    13.3                            1440x900   \n",
       "2      HP   Notebook    15.6                   Full HD 1920x1080   \n",
       "3   Apple  Ultrabook    15.4  IPS Panel Retina Display 2880x1800   \n",
       "4   Apple  Ultrabook    13.3  IPS Panel Retina Display 2560x1600   \n",
       "\n",
       "                          Cpu   Ram               Memory  \\\n",
       "0        Intel Core i5 2.3GHz  None          128.0GB SSD   \n",
       "1        Intel Core i5 1.8GHz  None  128GB Flash Storage   \n",
       "2  Intel Core i5 7200U 2.5GHz  None            256GB SSD   \n",
       "3        Intel Core i7 2.7GHz  None            512GB SSD   \n",
       "4        Intel Core i5 3.1GHz  None            256GB SSD   \n",
       "\n",
       "                            Gpu  OpSys  Weight        Price  \n",
       "0  Intel Iris Plus Graphics 640  macOS  1.37kg   71378.6832  \n",
       "1        Intel HD Graphics 6000  macOS  1.34kg   47895.5232  \n",
       "2         Intel HD Graphics 620  No OS  1.86kg   30636.0000  \n",
       "3            AMD Radeon Pro 455  macOS  1.83kg  135195.3360  \n",
       "4  Intel Iris Plus Graphics 650  macOS  1.37kg   96095.8080  "
      ]
     },
     "execution_count": 28,
     "metadata": {},
     "output_type": "execute_result"
    }
   ],
   "source": [
    "hdf.head(5)"
   ]
  },
  {
   "cell_type": "markdown",
   "id": "e8315666",
   "metadata": {},
   "source": [
    "## Replace \"GB\" in Ram column with \" \""
   ]
  },
  {
   "cell_type": "code",
   "execution_count": 33,
   "id": "58f90c79",
   "metadata": {},
   "outputs": [],
   "source": [
    "hdf['Ram'] = hdf['Ram'].str.replace('GB','')"
   ]
  },
  {
   "cell_type": "code",
   "execution_count": 34,
   "id": "f339bbfe",
   "metadata": {},
   "outputs": [
    {
     "data": {
      "text/plain": [
       "0     8\n",
       "1     8\n",
       "2     8\n",
       "3    16\n",
       "4     8\n",
       "Name: Ram, dtype: object"
      ]
     },
     "execution_count": 34,
     "metadata": {},
     "output_type": "execute_result"
    }
   ],
   "source": [
    "hdf[\"Ram\"].head(5)"
   ]
  },
  {
   "cell_type": "code",
   "execution_count": null,
   "id": "767ad7c5",
   "metadata": {},
   "outputs": [],
   "source": []
  },
  {
   "cell_type": "code",
   "execution_count": null,
   "id": "bc20fc58",
   "metadata": {},
   "outputs": [],
   "source": []
  },
  {
   "cell_type": "markdown",
   "id": "1a4bf857",
   "metadata": {},
   "source": [
    "## Replace \"kg\" in Weight column with \" \""
   ]
  },
  {
   "cell_type": "code",
   "execution_count": 19,
   "id": "1dd8d07e",
   "metadata": {},
   "outputs": [],
   "source": [
    "hdf['Weight'] = hdf['Weight'].str.replace('kg','')"
   ]
  },
  {
   "cell_type": "code",
   "execution_count": 20,
   "id": "10edfb70",
   "metadata": {},
   "outputs": [
    {
     "data": {
      "text/plain": [
       "0    1.37\n",
       "1    1.34\n",
       "2    1.86\n",
       "3    1.83\n",
       "4    1.37\n",
       "Name: Weight, dtype: object"
      ]
     },
     "execution_count": 20,
     "metadata": {},
     "output_type": "execute_result"
    }
   ],
   "source": [
    "hdf['Weight'].head(5)"
   ]
  },
  {
   "cell_type": "markdown",
   "id": "15f29d6c",
   "metadata": {},
   "source": [
    "## Convert Ram Column from object data type to int data type "
   ]
  },
  {
   "cell_type": "code",
   "execution_count": 35,
   "id": "9a588abc",
   "metadata": {},
   "outputs": [],
   "source": [
    "hdf['Ram'] = hdf['Ram'].astype('int')"
   ]
  },
  {
   "cell_type": "code",
   "execution_count": 36,
   "id": "7c5bcc78",
   "metadata": {},
   "outputs": [],
   "source": [
    "def fun(x):\n",
    "    if x == 8:\n",
    "        return 1000\n",
    "    return 0"
   ]
  },
  {
   "cell_type": "code",
   "execution_count": 37,
   "id": "6b97825f",
   "metadata": {},
   "outputs": [],
   "source": [
    "hdf['Ram'] = hdf['Ram'].apply(fun)"
   ]
  },
  {
   "cell_type": "code",
   "execution_count": null,
   "id": "dc562d65",
   "metadata": {},
   "outputs": [],
   "source": [
    "hdf."
   ]
  },
  {
   "cell_type": "markdown",
   "id": "f352858b",
   "metadata": {},
   "source": [
    "## Convert Weight  Column from object data type to float data type "
   ]
  },
  {
   "cell_type": "code",
   "execution_count": 22,
   "id": "add01913",
   "metadata": {},
   "outputs": [],
   "source": [
    "hdf['Weight'] = hdf['Weight'].astype('float')"
   ]
  },
  {
   "cell_type": "code",
   "execution_count": 23,
   "id": "d21ce125",
   "metadata": {},
   "outputs": [],
   "source": [
    "hdf['Weight'] = hdf['Weight'].astype('int')"
   ]
  },
  {
   "cell_type": "markdown",
   "id": "83ad847c",
   "metadata": {},
   "source": [
    "## Show how many uniqe values in Company column "
   ]
  },
  {
   "cell_type": "code",
   "execution_count": 24,
   "id": "b849c02c",
   "metadata": {},
   "outputs": [
    {
     "data": {
      "text/plain": [
       "array(['Apple', 'HP', 'Acer', 'Asus', 'Dell', 'Lenovo', 'Chuwi', 'MSI',\n",
       "       'Microsoft', 'Toshiba', 'Huawei', 'Xiaomi', 'Vero', 'Razer',\n",
       "       'Mediacom', 'Samsung', 'Google', 'Fujitsu', 'LG'], dtype=object)"
      ]
     },
     "execution_count": 24,
     "metadata": {},
     "output_type": "execute_result"
    }
   ],
   "source": [
    "hdf[\"Company\"].unique()"
   ]
  },
  {
   "cell_type": "markdown",
   "id": "f0d67d81",
   "metadata": {},
   "source": [
    "## Now let's focus on cpu column !! "
   ]
  },
  {
   "cell_type": "markdown",
   "id": "ab20750c",
   "metadata": {},
   "source": [
    "- if you look at values in cpu column you will notic that values like  \"Intel Core i5 6300U 2.4GHz\"\n",
    "- our goal to extract only three words , the \"Intel Core i5 6300U 2.4GHz\" value will be \"Intel Core i5\"\n",
    "- \"Intel Core i5 6300U 2.4GHz\" >>> \"Intel Core i5\"\n",
    "- create a new column call it cup name to save your work \n",
    "- Hint : you can use lambda  function "
   ]
  },
  {
   "cell_type": "code",
   "execution_count": 25,
   "id": "a0297466",
   "metadata": {},
   "outputs": [],
   "source": [
    "hdf[\"cpu name\"] = hdf[\"Cpu\"].str.split().str[:3].str.join(sep=\" \")"
   ]
  },
  {
   "cell_type": "code",
   "execution_count": 26,
   "id": "82dfd16f",
   "metadata": {},
   "outputs": [
    {
     "data": {
      "text/plain": [
       "0    Intel Core i5\n",
       "1    Intel Core i5\n",
       "2    Intel Core i5\n",
       "3    Intel Core i7\n",
       "4    Intel Core i5\n",
       "Name: cpu name, dtype: object"
      ]
     },
     "execution_count": 26,
     "metadata": {},
     "output_type": "execute_result"
    }
   ],
   "source": [
    "hdf[\"cpu name\"].head(5)"
   ]
  },
  {
   "cell_type": "markdown",
   "id": "9abb3bdd",
   "metadata": {},
   "source": [
    "## At memory column you will notice that we have a value that is \"1.0TB\" , we need to remove \".0\" and fill with \" \""
   ]
  },
  {
   "cell_type": "code",
   "execution_count": 41,
   "id": "4d0ac4c7",
   "metadata": {},
   "outputs": [
    {
     "name": "stderr",
     "output_type": "stream",
     "text": [
      "C:\\Users\\DESKTOP\\AppData\\Local\\Temp\\ipykernel_7688\\3997436535.py:1: FutureWarning: The default value of regex will change from True to False in a future version.\n",
      "  hdf['Memory'] = hdf['Memory'].str.replace('.0','')\n"
     ]
    }
   ],
   "source": [
    "hdf['Memory'] = hdf['Memory'].str.replace('.0','')"
   ]
  },
  {
   "cell_type": "code",
   "execution_count": 42,
   "id": "e5f12c3c",
   "metadata": {},
   "outputs": [
    {
     "data": {
      "text/plain": [
       "0              128GB SSD\n",
       "1    128GB Flash Storage\n",
       "2              256GB SSD\n",
       "3              512GB SSD\n",
       "4              256GB SSD\n",
       "Name: Memory, dtype: object"
      ]
     },
     "execution_count": 42,
     "metadata": {},
     "output_type": "execute_result"
    }
   ],
   "source": [
    "hdf['Memory'].head(5)"
   ]
  },
  {
   "cell_type": "markdown",
   "id": "45758e7f",
   "metadata": {},
   "source": [
    "## Replace \"GB\" in Memory column with \" \""
   ]
  },
  {
   "cell_type": "code",
   "execution_count": 44,
   "id": "c836a491",
   "metadata": {},
   "outputs": [],
   "source": [
    "hdf['Memory'] = hdf['Memory'].str.replace('GB','')"
   ]
  },
  {
   "cell_type": "code",
   "execution_count": 45,
   "id": "ca6389d2",
   "metadata": {},
   "outputs": [
    {
     "data": {
      "text/plain": [
       "0              128 SSD\n",
       "1    128 Flash Storage\n",
       "2              256 SSD\n",
       "3              512 SSD\n",
       "4              256 SSD\n",
       "Name: Memory, dtype: object"
      ]
     },
     "execution_count": 45,
     "metadata": {},
     "output_type": "execute_result"
    }
   ],
   "source": [
    "hdf['Memory'].head(5)"
   ]
  },
  {
   "cell_type": "markdown",
   "id": "eff90a45",
   "metadata": {},
   "source": [
    "## Replace \"TB\" in Memory column with \"000\""
   ]
  },
  {
   "cell_type": "code",
   "execution_count": 46,
   "id": "c2cab4ed",
   "metadata": {},
   "outputs": [],
   "source": [
    "hdf['Memory'] = hdf['Memory'].str.replace('TB','000')"
   ]
  },
  {
   "cell_type": "code",
   "execution_count": 49,
   "id": "91087283",
   "metadata": {},
   "outputs": [
    {
     "data": {
      "text/plain": [
       "0              128 SSD\n",
       "1    128 Flash Storage\n",
       "2              256 SSD\n",
       "3              512 SSD\n",
       "4              256 SSD\n",
       "Name: Memory, dtype: object"
      ]
     },
     "execution_count": 49,
     "metadata": {},
     "output_type": "execute_result"
    }
   ],
   "source": [
    "hdf['Memory'].head(5)"
   ]
  },
  {
   "cell_type": "markdown",
   "id": "7ad87adb",
   "metadata": {},
   "source": [
    "## Now , We all know that our computers have ssd and hhd , let's split our Memory column with \"+\""
   ]
  },
  {
   "cell_type": "markdown",
   "id": "800c1a72",
   "metadata": {},
   "source": [
    "### Let's create a new column with \"First_memory\"name,it contains all values before \"+\" \n",
    "### Let's create a new column with \"Sec_memory\" name , it contains all values after \"+\" \n"
   ]
  },
  {
   "cell_type": "code",
   "execution_count": 4,
   "id": "e3caab88",
   "metadata": {},
   "outputs": [],
   "source": [
    "# for more explain : \n",
    "# now we have all values in memory column like this >>> 512GB SSD +  1TB HDD \n",
    "# First_memory will contains >> 512GB SSD\n",
    "# Sec_memory will contains >> 1TB HDD "
   ]
  },
  {
   "cell_type": "code",
   "execution_count": 44,
   "id": "70ccf167",
   "metadata": {},
   "outputs": [],
   "source": [
    "hdf[['First_memory','Sec_memory']] = hdf.Memory.str.split(\"+\",expand=True)"
   ]
  },
  {
   "cell_type": "code",
   "execution_count": 51,
   "id": "b8813bbe",
   "metadata": {},
   "outputs": [
    {
     "data": {
      "text/plain": [
       "0             128.0GB SSD\n",
       "1     128GB Flash Storage\n",
       "2               256GB SSD\n",
       "3               512GB SSD\n",
       "4               256GB SSD\n",
       "5               500GB HDD\n",
       "6     256GB Flash Storage\n",
       "7     256GB Flash Storage\n",
       "8               512GB SSD\n",
       "9               256GB SSD\n",
       "10              500GB HDD\n",
       "11              500GB HDD\n",
       "12              256GB SSD\n",
       "13              256GB SSD\n",
       "14              256GB SSD\n",
       "15              256GB SSD\n",
       "16              256GB SSD\n",
       "17              512GB SSD\n",
       "18                1TB HDD\n",
       "19              128GB SSD\n",
       "20     32GB Flash Storage\n",
       "21             128GB SSD \n",
       "22              500GB HDD\n",
       "23              256GB SSD\n",
       "24              256GB SSD\n",
       "Name: First_memory, dtype: object"
      ]
     },
     "execution_count": 51,
     "metadata": {},
     "output_type": "execute_result"
    }
   ],
   "source": [
    "hdf['First_memory'].head(25)"
   ]
  },
  {
   "cell_type": "code",
   "execution_count": 50,
   "id": "af8ff6b2",
   "metadata": {},
   "outputs": [
    {
     "data": {
      "text/plain": [
       "0          None\n",
       "1          None\n",
       "2          None\n",
       "3          None\n",
       "4          None\n",
       "5          None\n",
       "6          None\n",
       "7          None\n",
       "8          None\n",
       "9          None\n",
       "10         None\n",
       "11         None\n",
       "12         None\n",
       "13         None\n",
       "14         None\n",
       "15         None\n",
       "16         None\n",
       "17         None\n",
       "18         None\n",
       "19         None\n",
       "20         None\n",
       "21      1TB HDD\n",
       "22         None\n",
       "23         None\n",
       "24         None\n",
       "Name: Sec_memory, dtype: object"
      ]
     },
     "execution_count": 50,
     "metadata": {},
     "output_type": "execute_result"
    }
   ],
   "source": [
    "hdf['Sec_memory'].head(25)"
   ]
  },
  {
   "cell_type": "markdown",
   "id": "85db6b10",
   "metadata": {},
   "source": [
    "## OpSys Column "
   ]
  },
  {
   "cell_type": "code",
   "execution_count": 5,
   "id": "a223542e",
   "metadata": {},
   "outputs": [],
   "source": [
    "# When we move into machine learning , we must convert every string values to num values\n",
    "# Now in OpSys column we need to convert or replace the values in that column with num values"
   ]
  },
  {
   "attachments": {
    "Screenshot%20-%207_30_2022%20,%206_20_28%20PM.png": {
     "image/png": "[encoded data removed]"
    }
   },
   "cell_type": "markdown",
   "id": "ad19cd22",
   "metadata": {},
   "source": [
    "![Screenshot%20-%207_30_2022%20,%206_20_28%20PM.png](attachment:Screenshot%20-%207_30_2022%20,%206_20_28%20PM.png)"
   ]
  },
  {
   "cell_type": "markdown",
   "id": "42fb96f9",
   "metadata": {},
   "source": [
    "## Create a function called \"os\" , it talk a parameter call it \"os_col\"\n",
    "- we need if the values are : 'Windows 10' or 'Windows 7' or 'Windows 10 S' , the function return Windows\n",
    "- we need if the values are :'macOS' or 'Mac OS X' the function return Mac\n",
    "- we need if the values are any thing else, the function return Others \n",
    "- Hint :  you can use apply to apply function on column "
   ]
  },
  {
   "cell_type": "code",
   "execution_count": 103,
   "id": "1ca37680",
   "metadata": {},
   "outputs": [
    {
     "data": {
      "text/plain": [
       "['Others',\n",
       " 'Windows',\n",
       " 'Others',\n",
       " 'Others',\n",
       " 'Others',\n",
       " 'Windows',\n",
       " 'Others',\n",
       " 'Others',\n",
       " 'Windows',\n",
       " 'Windows',\n",
       " 'Others',\n",
       " 'Others',\n",
       " 'Others',\n",
       " 'Windows',\n",
       " 'Others',\n",
       " 'Others',\n",
       " 'Windows',\n",
       " 'Others',\n",
       " 'Others',\n",
       " 'Windows',\n",
       " 'Windows',\n",
       " 'Windows',\n",
       " 'Others',\n",
       " 'Windows',\n",
       " 'Windows',\n",
       " 'Windows',\n",
       " 'Others',\n",
       " 'Windows',\n",
       " 'Windows',\n",
       " 'Windows',\n",
       " 'Windows',\n",
       " 'Windows',\n",
       " 'Windows',\n",
       " 'Windows',\n",
       " 'Others',\n",
       " 'Windows',\n",
       " 'Others',\n",
       " 'Windows',\n",
       " 'Windows',\n",
       " 'Windows',\n",
       " 'Others',\n",
       " 'Windows',\n",
       " 'Others',\n",
       " 'Windows',\n",
       " 'Windows',\n",
       " 'Others',\n",
       " 'Others',\n",
       " 'Windows',\n",
       " 'Windows',\n",
       " 'Windows',\n",
       " 'Others',\n",
       " 'Windows',\n",
       " 'Windows',\n",
       " 'Windows',\n",
       " 'Windows',\n",
       " 'Windows',\n",
       " 'Windows',\n",
       " 'Windows',\n",
       " 'Windows',\n",
       " 'Others',\n",
       " 'Windows',\n",
       " 'Windows',\n",
       " 'Others',\n",
       " 'Windows',\n",
       " 'Windows',\n",
       " 'Windows',\n",
       " 'Windows',\n",
       " 'Windows',\n",
       " 'Windows',\n",
       " 'Others',\n",
       " 'Windows',\n",
       " 'Windows',\n",
       " 'Windows',\n",
       " 'Windows',\n",
       " 'Windows',\n",
       " 'Windows',\n",
       " 'Others',\n",
       " 'Windows',\n",
       " 'Windows',\n",
       " 'Windows',\n",
       " 'Windows',\n",
       " 'Others',\n",
       " 'Windows',\n",
       " 'Windows',\n",
       " 'Windows',\n",
       " 'Windows',\n",
       " 'Windows',\n",
       " 'Windows',\n",
       " 'Windows',\n",
       " 'Windows',\n",
       " 'Windows',\n",
       " 'Windows',\n",
       " 'Windows',\n",
       " 'Windows',\n",
       " 'Windows',\n",
       " 'Windows',\n",
       " 'Others',\n",
       " 'Others',\n",
       " 'Windows',\n",
       " 'Windows',\n",
       " 'Windows',\n",
       " 'Windows',\n",
       " 'Others',\n",
       " 'Windows',\n",
       " 'Windows',\n",
       " 'Windows',\n",
       " 'Windows',\n",
       " 'Windows',\n",
       " 'Windows',\n",
       " 'Windows',\n",
       " 'Windows',\n",
       " 'Windows',\n",
       " 'Windows',\n",
       " 'Windows',\n",
       " 'Windows',\n",
       " 'Windows',\n",
       " 'Windows',\n",
       " 'Windows',\n",
       " 'Windows',\n",
       " 'Windows',\n",
       " 'Windows',\n",
       " 'Windows',\n",
       " 'Others',\n",
       " 'Windows',\n",
       " 'Windows',\n",
       " 'Others',\n",
       " 'Windows',\n",
       " 'Windows',\n",
       " 'Windows',\n",
       " 'Windows',\n",
       " 'Windows',\n",
       " 'Windows',\n",
       " 'Windows',\n",
       " 'Windows',\n",
       " 'Windows',\n",
       " 'Windows',\n",
       " 'Others',\n",
       " 'Windows',\n",
       " 'Others',\n",
       " 'Windows',\n",
       " 'Windows',\n",
       " 'Windows',\n",
       " 'Others',\n",
       " 'Windows',\n",
       " 'Windows',\n",
       " 'Windows',\n",
       " 'Windows',\n",
       " 'Windows',\n",
       " 'Windows',\n",
       " 'Windows',\n",
       " 'Windows',\n",
       " 'Windows',\n",
       " 'Windows',\n",
       " 'Windows',\n",
       " 'Windows',\n",
       " 'Windows',\n",
       " 'Windows',\n",
       " 'Windows',\n",
       " 'Windows',\n",
       " 'Windows',\n",
       " 'Windows',\n",
       " 'Windows',\n",
       " 'Windows',\n",
       " 'Windows',\n",
       " 'Windows',\n",
       " 'Windows',\n",
       " 'Windows',\n",
       " 'Windows',\n",
       " 'Windows',\n",
       " 'Windows',\n",
       " 'Windows',\n",
       " 'Windows',\n",
       " 'Others',\n",
       " 'Windows',\n",
       " 'Windows',\n",
       " 'Windows',\n",
       " 'Windows',\n",
       " 'Windows',\n",
       " 'Windows',\n",
       " 'Windows',\n",
       " 'Others',\n",
       " 'Windows',\n",
       " 'Windows',\n",
       " 'Windows',\n",
       " 'Others',\n",
       " 'Windows',\n",
       " 'Windows',\n",
       " 'Others',\n",
       " 'Windows',\n",
       " 'Windows',\n",
       " 'Windows',\n",
       " 'Windows',\n",
       " 'Others',\n",
       " 'Others',\n",
       " 'Windows',\n",
       " 'Windows',\n",
       " 'Windows',\n",
       " 'Windows',\n",
       " 'Windows',\n",
       " 'Windows',\n",
       " 'Windows',\n",
       " 'Windows',\n",
       " 'Windows',\n",
       " 'Windows',\n",
       " 'Windows',\n",
       " 'Others',\n",
       " 'Windows',\n",
       " 'Windows',\n",
       " 'Windows',\n",
       " 'Windows',\n",
       " 'Others',\n",
       " 'Windows',\n",
       " 'Others',\n",
       " 'Others',\n",
       " 'Windows',\n",
       " 'Windows',\n",
       " 'Others',\n",
       " 'Windows',\n",
       " 'Windows',\n",
       " 'Windows',\n",
       " 'Others',\n",
       " 'Windows',\n",
       " 'Windows',\n",
       " 'Windows',\n",
       " 'Windows',\n",
       " 'Windows',\n",
       " 'Windows',\n",
       " 'Windows',\n",
       " 'Windows',\n",
       " 'Windows',\n",
       " 'Windows',\n",
       " 'Windows',\n",
       " 'Windows',\n",
       " 'Windows',\n",
       " 'Windows',\n",
       " 'Others',\n",
       " 'Others',\n",
       " 'Windows',\n",
       " 'Windows',\n",
       " 'Windows',\n",
       " 'Windows',\n",
       " 'Windows',\n",
       " 'Others',\n",
       " 'Windows',\n",
       " 'Windows',\n",
       " 'Windows',\n",
       " 'Windows',\n",
       " 'Windows',\n",
       " 'Windows',\n",
       " 'Others',\n",
       " 'Windows',\n",
       " 'Windows',\n",
       " 'Windows',\n",
       " 'Windows',\n",
       " 'Windows',\n",
       " 'Windows',\n",
       " 'Windows',\n",
       " 'Windows',\n",
       " 'Windows',\n",
       " 'Windows',\n",
       " 'Windows',\n",
       " 'Others',\n",
       " 'Windows',\n",
       " 'Windows',\n",
       " 'Windows',\n",
       " 'Windows',\n",
       " 'Windows',\n",
       " 'Others',\n",
       " 'Windows',\n",
       " 'Windows',\n",
       " 'Others',\n",
       " 'Windows',\n",
       " 'Others',\n",
       " 'Windows',\n",
       " 'Windows',\n",
       " 'Windows',\n",
       " 'Others',\n",
       " 'Windows',\n",
       " 'Windows',\n",
       " 'Others',\n",
       " 'Windows',\n",
       " 'Others',\n",
       " 'Windows',\n",
       " 'Windows',\n",
       " 'Windows',\n",
       " 'Windows',\n",
       " 'Windows',\n",
       " 'Windows',\n",
       " 'Windows',\n",
       " 'Others',\n",
       " 'Others',\n",
       " 'Windows',\n",
       " 'Windows',\n",
       " 'Windows',\n",
       " 'Windows',\n",
       " 'Windows',\n",
       " 'Others',\n",
       " 'Windows',\n",
       " 'Windows',\n",
       " 'Windows',\n",
       " 'Windows',\n",
       " 'Windows',\n",
       " 'Windows',\n",
       " 'Others',\n",
       " 'Windows',\n",
       " 'Others',\n",
       " 'Windows',\n",
       " 'Windows',\n",
       " 'Windows',\n",
       " 'Windows',\n",
       " 'Windows',\n",
       " 'Windows',\n",
       " 'Windows',\n",
       " 'Windows',\n",
       " 'Windows',\n",
       " 'Windows',\n",
       " 'Windows',\n",
       " 'Others',\n",
       " 'Windows',\n",
       " 'Windows',\n",
       " 'Windows',\n",
       " 'Windows',\n",
       " 'Windows',\n",
       " 'Windows',\n",
       " 'Windows',\n",
       " 'Windows',\n",
       " 'Windows',\n",
       " 'Windows',\n",
       " 'Windows',\n",
       " 'Windows',\n",
       " 'Windows',\n",
       " 'Windows',\n",
       " 'Windows',\n",
       " 'Windows',\n",
       " 'Windows',\n",
       " 'Windows',\n",
       " 'Windows',\n",
       " 'Windows',\n",
       " 'Others',\n",
       " 'Windows',\n",
       " 'Others',\n",
       " 'Windows',\n",
       " 'Windows',\n",
       " 'Windows',\n",
       " 'Windows',\n",
       " 'Windows',\n",
       " 'Windows',\n",
       " 'Windows',\n",
       " 'Windows',\n",
       " 'Windows',\n",
       " 'Windows',\n",
       " 'Windows',\n",
       " 'Windows',\n",
       " 'Windows',\n",
       " 'Windows',\n",
       " 'Windows',\n",
       " 'Others',\n",
       " 'Windows',\n",
       " 'Windows',\n",
       " 'Windows',\n",
       " 'Windows',\n",
       " 'Windows',\n",
       " 'Windows',\n",
       " 'Windows',\n",
       " 'Others',\n",
       " 'Windows',\n",
       " 'Windows',\n",
       " 'Others',\n",
       " 'Windows',\n",
       " 'Windows',\n",
       " 'Windows',\n",
       " 'Windows',\n",
       " 'Windows',\n",
       " 'Windows',\n",
       " 'Windows',\n",
       " 'Windows',\n",
       " 'Windows',\n",
       " 'Windows',\n",
       " 'Windows',\n",
       " 'Others',\n",
       " 'Windows',\n",
       " 'Others',\n",
       " 'Windows',\n",
       " 'Windows',\n",
       " 'Windows',\n",
       " 'Windows',\n",
       " 'Windows',\n",
       " 'Windows',\n",
       " 'Windows',\n",
       " 'Windows',\n",
       " 'Windows',\n",
       " 'Windows',\n",
       " 'Windows',\n",
       " 'Windows',\n",
       " 'Others',\n",
       " 'Windows',\n",
       " 'Windows',\n",
       " 'Windows',\n",
       " 'Windows',\n",
       " 'Windows',\n",
       " 'Windows',\n",
       " 'Windows',\n",
       " 'Windows',\n",
       " 'Others',\n",
       " 'Windows',\n",
       " 'Windows',\n",
       " 'Windows',\n",
       " 'Windows',\n",
       " 'Windows',\n",
       " 'Windows',\n",
       " 'Windows',\n",
       " 'Windows',\n",
       " 'Windows',\n",
       " 'Windows',\n",
       " 'Windows',\n",
       " 'Others',\n",
       " 'Windows',\n",
       " 'Windows',\n",
       " 'Windows',\n",
       " 'Windows',\n",
       " 'Windows',\n",
       " 'Windows',\n",
       " 'Windows',\n",
       " 'Others',\n",
       " 'Windows',\n",
       " 'Windows',\n",
       " 'Windows',\n",
       " 'Others',\n",
       " 'Windows',\n",
       " 'Windows',\n",
       " 'Others',\n",
       " 'Windows',\n",
       " 'Windows',\n",
       " 'Windows',\n",
       " 'Windows',\n",
       " 'Windows',\n",
       " 'Windows',\n",
       " 'Others',\n",
       " 'Windows',\n",
       " 'Others',\n",
       " 'Windows',\n",
       " 'Windows',\n",
       " 'Windows',\n",
       " 'Windows',\n",
       " 'Windows',\n",
       " 'Windows',\n",
       " 'Others',\n",
       " 'Windows',\n",
       " 'Windows',\n",
       " 'Windows',\n",
       " 'Windows',\n",
       " 'Windows',\n",
       " 'Windows',\n",
       " 'Windows',\n",
       " 'Windows',\n",
       " 'Windows',\n",
       " 'Windows',\n",
       " 'Windows',\n",
       " 'Windows',\n",
       " 'Windows',\n",
       " 'Windows',\n",
       " 'Windows',\n",
       " 'Windows',\n",
       " 'Others',\n",
       " 'Windows',\n",
       " 'Windows',\n",
       " 'Windows',\n",
       " 'Windows',\n",
       " 'Windows',\n",
       " 'Windows',\n",
       " 'Windows',\n",
       " 'Windows',\n",
       " 'Others',\n",
       " 'Windows',\n",
       " 'Windows',\n",
       " 'Windows',\n",
       " 'Windows',\n",
       " 'Windows',\n",
       " 'Windows',\n",
       " 'Windows',\n",
       " 'Windows',\n",
       " 'Windows',\n",
       " 'Windows',\n",
       " 'Windows',\n",
       " 'Windows',\n",
       " 'Windows',\n",
       " 'Windows',\n",
       " 'Windows',\n",
       " 'Windows',\n",
       " 'Windows',\n",
       " 'Windows',\n",
       " 'Windows',\n",
       " 'Windows',\n",
       " 'Windows',\n",
       " 'Windows',\n",
       " 'Windows',\n",
       " 'Windows',\n",
       " 'Windows',\n",
       " 'Windows',\n",
       " 'Windows',\n",
       " 'Windows',\n",
       " 'Windows',\n",
       " 'Windows',\n",
       " 'Windows',\n",
       " 'Others',\n",
       " 'Windows',\n",
       " 'Windows',\n",
       " 'Windows',\n",
       " 'Windows',\n",
       " 'Others',\n",
       " 'Windows',\n",
       " 'Windows',\n",
       " 'Windows',\n",
       " 'Windows',\n",
       " 'Others',\n",
       " 'Windows',\n",
       " 'Windows',\n",
       " 'Windows',\n",
       " 'Windows',\n",
       " 'Windows',\n",
       " 'Windows',\n",
       " 'Windows',\n",
       " 'Windows',\n",
       " 'Windows',\n",
       " 'Others',\n",
       " 'Windows',\n",
       " 'Windows',\n",
       " 'Others',\n",
       " 'Windows',\n",
       " 'Windows',\n",
       " 'Windows',\n",
       " 'Windows',\n",
       " 'Windows',\n",
       " 'Windows',\n",
       " 'Windows',\n",
       " 'Windows',\n",
       " 'Windows',\n",
       " 'Windows',\n",
       " 'Windows',\n",
       " 'Windows',\n",
       " 'Windows',\n",
       " 'Windows',\n",
       " 'Windows',\n",
       " 'Others',\n",
       " 'Windows',\n",
       " 'Windows',\n",
       " 'Windows',\n",
       " 'Others',\n",
       " 'Windows',\n",
       " 'Windows',\n",
       " 'Windows',\n",
       " 'Windows',\n",
       " 'Windows',\n",
       " 'Windows',\n",
       " 'Windows',\n",
       " 'Others',\n",
       " 'Windows',\n",
       " 'Windows',\n",
       " 'Windows',\n",
       " 'Windows',\n",
       " 'Windows',\n",
       " 'Windows',\n",
       " 'Windows',\n",
       " 'Windows',\n",
       " 'Windows',\n",
       " 'Windows',\n",
       " 'Windows',\n",
       " 'Windows',\n",
       " 'Windows',\n",
       " 'Windows',\n",
       " 'Windows',\n",
       " 'Windows',\n",
       " 'Windows',\n",
       " 'Windows',\n",
       " 'Windows',\n",
       " 'Windows',\n",
       " 'Windows',\n",
       " 'Windows',\n",
       " 'Windows',\n",
       " 'Others',\n",
       " 'Windows',\n",
       " 'Windows',\n",
       " 'Windows',\n",
       " 'Windows',\n",
       " 'Others',\n",
       " 'Windows',\n",
       " 'Windows',\n",
       " 'Windows',\n",
       " 'Windows',\n",
       " 'Windows',\n",
       " 'Windows',\n",
       " 'Windows',\n",
       " 'Windows',\n",
       " 'Windows',\n",
       " 'Others',\n",
       " 'Windows',\n",
       " 'Windows',\n",
       " 'Windows',\n",
       " 'Windows',\n",
       " 'Windows',\n",
       " 'Windows',\n",
       " 'Windows',\n",
       " 'Windows',\n",
       " 'Windows',\n",
       " 'Others',\n",
       " 'Windows',\n",
       " 'Windows',\n",
       " 'Windows',\n",
       " 'Windows',\n",
       " 'Windows',\n",
       " 'Windows',\n",
       " 'Windows',\n",
       " 'Others',\n",
       " 'Others',\n",
       " 'Others',\n",
       " 'Windows',\n",
       " 'Others',\n",
       " 'Windows',\n",
       " 'Windows',\n",
       " 'Others',\n",
       " 'Windows',\n",
       " 'Windows',\n",
       " 'Windows',\n",
       " 'Windows',\n",
       " 'Windows',\n",
       " 'Windows',\n",
       " 'Windows',\n",
       " 'Others',\n",
       " 'Windows',\n",
       " 'Windows',\n",
       " 'Windows',\n",
       " 'Windows',\n",
       " 'Windows',\n",
       " 'Windows',\n",
       " 'Windows',\n",
       " 'Windows',\n",
       " 'Windows',\n",
       " 'Windows',\n",
       " 'Windows',\n",
       " 'Windows',\n",
       " 'Windows',\n",
       " 'Windows',\n",
       " 'Windows',\n",
       " 'Others',\n",
       " 'Windows',\n",
       " 'Windows',\n",
       " 'Windows',\n",
       " 'Windows',\n",
       " 'Windows',\n",
       " 'Windows',\n",
       " 'Windows',\n",
       " 'Others',\n",
       " 'Windows',\n",
       " 'Windows',\n",
       " 'Others',\n",
       " 'Windows',\n",
       " 'Windows',\n",
       " 'Windows',\n",
       " 'Windows',\n",
       " 'Windows',\n",
       " 'Windows',\n",
       " 'Windows',\n",
       " 'Windows',\n",
       " 'Windows',\n",
       " 'Windows',\n",
       " 'Windows',\n",
       " 'Windows',\n",
       " 'Windows',\n",
       " 'Windows',\n",
       " 'Others',\n",
       " 'Windows',\n",
       " 'Windows',\n",
       " 'Windows',\n",
       " 'Windows',\n",
       " 'Windows',\n",
       " 'Windows',\n",
       " 'Windows',\n",
       " 'Others',\n",
       " 'Windows',\n",
       " 'Windows',\n",
       " 'Windows',\n",
       " 'Windows',\n",
       " 'Windows',\n",
       " 'Windows',\n",
       " 'Windows',\n",
       " 'Windows',\n",
       " 'Windows',\n",
       " 'Windows',\n",
       " 'Windows',\n",
       " 'Windows',\n",
       " 'Others',\n",
       " 'Windows',\n",
       " 'Windows',\n",
       " 'Windows',\n",
       " 'Windows',\n",
       " 'Windows',\n",
       " 'Windows',\n",
       " 'Others',\n",
       " 'Windows',\n",
       " 'Windows',\n",
       " 'Windows',\n",
       " 'Windows',\n",
       " 'Windows',\n",
       " 'Windows',\n",
       " 'Others',\n",
       " 'Windows',\n",
       " 'Windows',\n",
       " 'Windows',\n",
       " 'Windows',\n",
       " 'Windows',\n",
       " 'Windows',\n",
       " 'Others',\n",
       " 'Others',\n",
       " 'Windows',\n",
       " 'Windows',\n",
       " 'Windows',\n",
       " 'Windows',\n",
       " 'Windows',\n",
       " 'Windows',\n",
       " 'Windows',\n",
       " 'Windows',\n",
       " 'Windows',\n",
       " 'Windows',\n",
       " 'Windows',\n",
       " 'Windows',\n",
       " 'Others',\n",
       " 'Windows',\n",
       " 'Windows',\n",
       " 'Others',\n",
       " 'Windows',\n",
       " 'Windows',\n",
       " 'Windows',\n",
       " 'Windows',\n",
       " 'Windows',\n",
       " 'Windows',\n",
       " 'Windows',\n",
       " 'Windows',\n",
       " 'Windows',\n",
       " 'Windows',\n",
       " 'Windows',\n",
       " 'Windows',\n",
       " 'Windows',\n",
       " 'Windows',\n",
       " 'Windows',\n",
       " 'Windows',\n",
       " 'Others',\n",
       " 'Windows',\n",
       " 'Windows',\n",
       " 'Windows',\n",
       " 'Windows',\n",
       " 'Windows',\n",
       " 'Windows',\n",
       " 'Others',\n",
       " 'Windows',\n",
       " 'Windows',\n",
       " 'Windows',\n",
       " 'Windows',\n",
       " 'Windows',\n",
       " 'Windows',\n",
       " 'Windows',\n",
       " 'Windows',\n",
       " 'Windows',\n",
       " 'Others',\n",
       " 'Windows',\n",
       " 'Windows',\n",
       " 'Windows',\n",
       " 'Windows',\n",
       " 'Windows',\n",
       " 'Windows',\n",
       " 'Others',\n",
       " 'Windows',\n",
       " 'Windows',\n",
       " 'Windows',\n",
       " 'Windows',\n",
       " 'Windows',\n",
       " 'Windows',\n",
       " 'Windows',\n",
       " 'Windows',\n",
       " 'Windows',\n",
       " 'Windows',\n",
       " 'Windows',\n",
       " 'Windows',\n",
       " 'Windows',\n",
       " 'Others',\n",
       " 'Windows',\n",
       " 'Windows',\n",
       " 'Windows',\n",
       " 'Windows',\n",
       " 'Windows',\n",
       " 'Windows',\n",
       " 'Windows',\n",
       " 'Windows',\n",
       " 'Windows',\n",
       " 'Windows',\n",
       " 'Others',\n",
       " 'Windows',\n",
       " 'Windows',\n",
       " 'Windows',\n",
       " 'Windows',\n",
       " 'Windows',\n",
       " 'Windows',\n",
       " 'Windows',\n",
       " 'Windows',\n",
       " 'Windows',\n",
       " 'Windows',\n",
       " 'Windows',\n",
       " 'Windows',\n",
       " 'Windows',\n",
       " 'Windows',\n",
       " 'Windows',\n",
       " 'Windows',\n",
       " 'Windows',\n",
       " 'Windows',\n",
       " 'Windows',\n",
       " 'Windows',\n",
       " 'Windows',\n",
       " 'Windows',\n",
       " 'Others',\n",
       " 'Windows',\n",
       " 'Windows',\n",
       " 'Windows',\n",
       " 'Windows',\n",
       " 'Windows',\n",
       " 'Windows',\n",
       " 'Windows',\n",
       " 'Windows',\n",
       " 'Windows',\n",
       " 'Windows',\n",
       " 'Others',\n",
       " 'Windows',\n",
       " 'Windows',\n",
       " 'Windows',\n",
       " 'Others',\n",
       " 'Windows',\n",
       " 'Windows',\n",
       " 'Windows',\n",
       " 'Windows',\n",
       " 'Windows',\n",
       " 'Others',\n",
       " 'Windows',\n",
       " 'Windows',\n",
       " 'Windows',\n",
       " 'Windows',\n",
       " 'Windows',\n",
       " 'Windows',\n",
       " 'Windows',\n",
       " 'Others',\n",
       " 'Windows',\n",
       " 'Windows',\n",
       " 'Windows',\n",
       " 'Others',\n",
       " 'Windows',\n",
       " 'Others',\n",
       " 'Windows',\n",
       " 'Windows',\n",
       " 'Windows',\n",
       " 'Windows',\n",
       " 'Windows',\n",
       " 'Windows',\n",
       " 'Others',\n",
       " 'Windows',\n",
       " 'Windows',\n",
       " 'Windows',\n",
       " 'Others',\n",
       " 'Windows',\n",
       " 'Windows',\n",
       " 'Windows',\n",
       " 'Windows',\n",
       " 'Windows',\n",
       " 'Windows',\n",
       " 'Windows',\n",
       " 'Others',\n",
       " 'Windows',\n",
       " 'Windows',\n",
       " 'Windows',\n",
       " 'Windows',\n",
       " 'Others',\n",
       " 'Windows',\n",
       " 'Windows',\n",
       " 'Windows',\n",
       " 'Windows',\n",
       " 'Windows',\n",
       " 'Windows',\n",
       " 'Windows',\n",
       " 'Windows',\n",
       " 'Windows',\n",
       " 'Others',\n",
       " 'Windows',\n",
       " 'Others',\n",
       " 'Windows',\n",
       " 'Windows',\n",
       " 'Windows',\n",
       " 'Windows',\n",
       " 'Windows',\n",
       " 'Windows',\n",
       " 'Windows',\n",
       " 'Others',\n",
       " 'Windows',\n",
       " 'Windows',\n",
       " 'Windows',\n",
       " 'Windows',\n",
       " 'Windows',\n",
       " 'Windows',\n",
       " 'Windows',\n",
       " 'Windows',\n",
       " 'Windows',\n",
       " 'Windows',\n",
       " 'Others',\n",
       " 'Windows',\n",
       " 'Windows',\n",
       " 'Windows',\n",
       " 'Windows',\n",
       " 'Windows',\n",
       " 'Windows',\n",
       " 'Windows',\n",
       " 'Windows',\n",
       " 'Windows',\n",
       " 'Windows',\n",
       " 'Windows',\n",
       " 'Windows',\n",
       " 'Windows',\n",
       " 'Windows',\n",
       " 'Windows',\n",
       " 'Windows',\n",
       " 'Windows',\n",
       " 'Windows',\n",
       " 'Windows',\n",
       " 'Windows',\n",
       " 'Windows',\n",
       " 'Windows',\n",
       " 'Windows',\n",
       " 'Windows',\n",
       " 'Others',\n",
       " 'Windows',\n",
       " 'Windows',\n",
       " 'Windows',\n",
       " 'Windows',\n",
       " 'Windows',\n",
       " 'Windows',\n",
       " 'Windows',\n",
       " 'Windows',\n",
       " 'Windows',\n",
       " 'Windows',\n",
       " 'Windows',\n",
       " 'Windows',\n",
       " 'Windows',\n",
       " 'Windows',\n",
       " 'Others',\n",
       " 'Windows',\n",
       " 'Others',\n",
       " 'Windows',\n",
       " 'Windows',\n",
       " 'Windows',\n",
       " 'Others',\n",
       " 'Windows',\n",
       " 'Windows',\n",
       " 'Windows',\n",
       " 'Windows',\n",
       " 'Windows',\n",
       " 'Others',\n",
       " 'Windows',\n",
       " 'Windows',\n",
       " 'Windows',\n",
       " 'Windows',\n",
       " 'Windows',\n",
       " 'Others',\n",
       " 'Windows',\n",
       " 'Windows',\n",
       " 'Windows',\n",
       " 'Windows',\n",
       " 'Windows',\n",
       " 'Windows',\n",
       " 'Windows',\n",
       " 'Windows',\n",
       " 'Windows',\n",
       " 'Windows',\n",
       " 'Windows',\n",
       " 'Windows',\n",
       " 'Windows',\n",
       " 'Windows',\n",
       " 'Windows',\n",
       " 'Windows',\n",
       " 'Windows',\n",
       " 'Windows',\n",
       " 'Windows',\n",
       " 'Windows',\n",
       " 'Windows',\n",
       " 'Windows',\n",
       " 'Windows',\n",
       " 'Windows',\n",
       " 'Windows',\n",
       " 'Windows',\n",
       " 'Others',\n",
       " 'Windows',\n",
       " 'Windows',\n",
       " 'Windows',\n",
       " 'Windows',\n",
       " 'Windows',\n",
       " 'Windows',\n",
       " 'Windows',\n",
       " ...]"
      ]
     },
     "execution_count": 103,
     "metadata": {},
     "output_type": "execute_result"
    }
   ],
   "source": [
    "def os():\n",
    "    arr =[]\n",
    "    for item in hdf.loc[:,\"OpSys\"]:\n",
    "        \n",
    "        if 'Windows' in item:\n",
    "            item = 'Windows'\n",
    "        elif 'macOS' in item or 'Mac OS X' in item:\n",
    "            item = 'Mac'\n",
    "        else : item = 'Others'\n",
    "        arr.append(item)\n",
    "    return arr\n",
    "os()"
   ]
  },
  {
   "cell_type": "code",
   "execution_count": 101,
   "id": "5cd79d01",
   "metadata": {},
   "outputs": [
    {
     "data": {
      "text/plain": [
       "0           Mac\n",
       "1       Windows\n",
       "2        Others\n",
       "3           Mac\n",
       "4           Mac\n",
       "         ...   \n",
       "1298    Windows\n",
       "1299    Windows\n",
       "1300    Windows\n",
       "1301    Windows\n",
       "1302    Windows\n",
       "Name: OpSys, Length: 1303, dtype: object"
      ]
     },
     "execution_count": 101,
     "metadata": {},
     "output_type": "execute_result"
    }
   ],
   "source": [
    "hdf.loc[:,\"OpSys\"]"
   ]
  },
  {
   "cell_type": "code",
   "execution_count": 102,
   "id": "bb4cfbdd",
   "metadata": {},
   "outputs": [
    {
     "data": {
      "text/html": [
       "<div>\n",
       "<style scoped>\n",
       "    .dataframe tbody tr th:only-of-type {\n",
       "        vertical-align: middle;\n",
       "    }\n",
       "\n",
       "    .dataframe tbody tr th {\n",
       "        vertical-align: top;\n",
       "    }\n",
       "\n",
       "    .dataframe thead th {\n",
       "        text-align: right;\n",
       "    }\n",
       "</style>\n",
       "<table border=\"1\" class=\"dataframe\">\n",
       "  <thead>\n",
       "    <tr style=\"text-align: right;\">\n",
       "      <th></th>\n",
       "      <th>Company</th>\n",
       "      <th>TypeName</th>\n",
       "      <th>Inches</th>\n",
       "      <th>ScreenResolution</th>\n",
       "      <th>Cpu</th>\n",
       "      <th>Ram</th>\n",
       "      <th>Memory</th>\n",
       "      <th>Gpu</th>\n",
       "      <th>OpSys</th>\n",
       "      <th>Weight</th>\n",
       "      <th>Price</th>\n",
       "      <th>First_memory</th>\n",
       "      <th>Sec_memory</th>\n",
       "    </tr>\n",
       "  </thead>\n",
       "  <tbody>\n",
       "    <tr>\n",
       "      <th>0</th>\n",
       "      <td>Apple</td>\n",
       "      <td>Ultrabook</td>\n",
       "      <td>13.3</td>\n",
       "      <td>IPS Panel Retina Display 2560x1600</td>\n",
       "      <td>Intel Core i5 2.3GHz</td>\n",
       "      <td>8GB</td>\n",
       "      <td>128.0GB SSD</td>\n",
       "      <td>Intel Iris Plus Graphics 640</td>\n",
       "      <td>Mac</td>\n",
       "      <td>1.37kg</td>\n",
       "      <td>71378.6832</td>\n",
       "      <td>128.0GB SSD</td>\n",
       "      <td>None</td>\n",
       "    </tr>\n",
       "    <tr>\n",
       "      <th>1</th>\n",
       "      <td>Apple</td>\n",
       "      <td>Ultrabook</td>\n",
       "      <td>13.3</td>\n",
       "      <td>1440x900</td>\n",
       "      <td>Intel Core i5 1.8GHz</td>\n",
       "      <td>8GB</td>\n",
       "      <td>128GB Flash Storage</td>\n",
       "      <td>Intel HD Graphics 6000</td>\n",
       "      <td>Windows</td>\n",
       "      <td>1.34kg</td>\n",
       "      <td>47895.5232</td>\n",
       "      <td>128GB Flash Storage</td>\n",
       "      <td>None</td>\n",
       "    </tr>\n",
       "    <tr>\n",
       "      <th>2</th>\n",
       "      <td>HP</td>\n",
       "      <td>Notebook</td>\n",
       "      <td>15.6</td>\n",
       "      <td>Full HD 1920x1080</td>\n",
       "      <td>Intel Core i5 7200U 2.5GHz</td>\n",
       "      <td>8GB</td>\n",
       "      <td>256GB SSD</td>\n",
       "      <td>Intel HD Graphics 620</td>\n",
       "      <td>Others</td>\n",
       "      <td>1.86kg</td>\n",
       "      <td>30636.0000</td>\n",
       "      <td>256GB SSD</td>\n",
       "      <td>None</td>\n",
       "    </tr>\n",
       "    <tr>\n",
       "      <th>3</th>\n",
       "      <td>Apple</td>\n",
       "      <td>Ultrabook</td>\n",
       "      <td>15.4</td>\n",
       "      <td>IPS Panel Retina Display 2880x1800</td>\n",
       "      <td>Intel Core i7 2.7GHz</td>\n",
       "      <td>16GB</td>\n",
       "      <td>512GB SSD</td>\n",
       "      <td>AMD Radeon Pro 455</td>\n",
       "      <td>Mac</td>\n",
       "      <td>1.83kg</td>\n",
       "      <td>135195.3360</td>\n",
       "      <td>512GB SSD</td>\n",
       "      <td>None</td>\n",
       "    </tr>\n",
       "    <tr>\n",
       "      <th>4</th>\n",
       "      <td>Apple</td>\n",
       "      <td>Ultrabook</td>\n",
       "      <td>13.3</td>\n",
       "      <td>IPS Panel Retina Display 2560x1600</td>\n",
       "      <td>Intel Core i5 3.1GHz</td>\n",
       "      <td>8GB</td>\n",
       "      <td>256GB SSD</td>\n",
       "      <td>Intel Iris Plus Graphics 650</td>\n",
       "      <td>Mac</td>\n",
       "      <td>1.37kg</td>\n",
       "      <td>96095.8080</td>\n",
       "      <td>256GB SSD</td>\n",
       "      <td>None</td>\n",
       "    </tr>\n",
       "  </tbody>\n",
       "</table>\n",
       "</div>"
      ],
      "text/plain": [
       "  Company   TypeName  Inches                    ScreenResolution  \\\n",
       "0   Apple  Ultrabook    13.3  IPS Panel Retina Display 2560x1600   \n",
       "1   Apple  Ultrabook    13.3                            1440x900   \n",
       "2      HP   Notebook    15.6                   Full HD 1920x1080   \n",
       "3   Apple  Ultrabook    15.4  IPS Panel Retina Display 2880x1800   \n",
       "4   Apple  Ultrabook    13.3  IPS Panel Retina Display 2560x1600   \n",
       "\n",
       "                          Cpu   Ram               Memory  \\\n",
       "0        Intel Core i5 2.3GHz   8GB          128.0GB SSD   \n",
       "1        Intel Core i5 1.8GHz   8GB  128GB Flash Storage   \n",
       "2  Intel Core i5 7200U 2.5GHz   8GB            256GB SSD   \n",
       "3        Intel Core i7 2.7GHz  16GB            512GB SSD   \n",
       "4        Intel Core i5 3.1GHz   8GB            256GB SSD   \n",
       "\n",
       "                            Gpu    OpSys  Weight        Price  \\\n",
       "0  Intel Iris Plus Graphics 640      Mac  1.37kg   71378.6832   \n",
       "1        Intel HD Graphics 6000  Windows  1.34kg   47895.5232   \n",
       "2         Intel HD Graphics 620   Others  1.86kg   30636.0000   \n",
       "3            AMD Radeon Pro 455      Mac  1.83kg  135195.3360   \n",
       "4  Intel Iris Plus Graphics 650      Mac  1.37kg   96095.8080   \n",
       "\n",
       "          First_memory Sec_memory  \n",
       "0          128.0GB SSD       None  \n",
       "1  128GB Flash Storage       None  \n",
       "2            256GB SSD       None  \n",
       "3            512GB SSD       None  \n",
       "4            256GB SSD       None  "
      ]
     },
     "execution_count": 102,
     "metadata": {},
     "output_type": "execute_result"
    }
   ],
   "source": [
    "hdf.head(5)"
   ]
  },
  {
   "cell_type": "code",
   "execution_count": null,
   "id": "28e14821",
   "metadata": {},
   "outputs": [],
   "source": []
  },
  {
   "cell_type": "markdown",
   "id": "d39460c9",
   "metadata": {},
   "source": [
    "## Create a variabel called \"y_data\" and save the price column at it "
   ]
  },
  {
   "cell_type": "code",
   "execution_count": 50,
   "id": "7ac74e79",
   "metadata": {},
   "outputs": [],
   "source": [
    "y_data = hdf['Price']"
   ]
  },
  {
   "cell_type": "code",
   "execution_count": 51,
   "id": "02196056",
   "metadata": {},
   "outputs": [
    {
     "data": {
      "text/plain": [
       "0        71378.6832\n",
       "1        47895.5232\n",
       "2        30636.0000\n",
       "3       135195.3360\n",
       "4        96095.8080\n",
       "           ...     \n",
       "1298     33992.6400\n",
       "1299     79866.7200\n",
       "1300     12201.1200\n",
       "1301     40705.9200\n",
       "1302     19660.3200\n",
       "Name: Price, Length: 1303, dtype: float64"
      ]
     },
     "execution_count": 51,
     "metadata": {},
     "output_type": "execute_result"
    }
   ],
   "source": [
    "y_data"
   ]
  },
  {
   "cell_type": "markdown",
   "id": "a0703a68",
   "metadata": {},
   "source": [
    "# Finally , thank you for your effort , you did your best and i'm really really proud of you and support you all time. :)"
   ]
  }
 ],
 "metadata": {
  "kernelspec": {
   "display_name": "Python 3 (ipykernel)",
   "language": "python",
   "name": "python3"
  },
  "language_info": {
   "codemirror_mode": {
    "name": "ipython",
    "version": 3
   },
   "file_extension": ".py",
   "mimetype": "text/x-python",
   "name": "python",
   "nbconvert_exporter": "python",
   "pygments_lexer": "ipython3",
   "version": "3.9.12"
  }
 },
 "nbformat": 4,
 "nbformat_minor": 5
}
